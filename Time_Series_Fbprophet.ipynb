{
  "nbformat": 4,
  "nbformat_minor": 0,
  "metadata": {
    "colab": {
      "name": "Time_Series_Fbprophet.ipynb",
      "provenance": [],
      "collapsed_sections": [],
      "authorship_tag": "ABX9TyOzpnC73FV+FfUVmvrPeL9B",
      "include_colab_link": true
    },
    "kernelspec": {
      "name": "python3",
      "display_name": "Python 3"
    }
  },
  "cells": [
    {
      "cell_type": "markdown",
      "metadata": {
        "id": "view-in-github",
        "colab_type": "text"
      },
      "source": [
        "<a href=\"https://colab.research.google.com/github/momo1606/Covid-19-Time-series-prediction-dashboard/blob/master/Time_Series_Fbprophet.ipynb\" target=\"_parent\"><img src=\"https://colab.research.google.com/assets/colab-badge.svg\" alt=\"Open In Colab\"/></a>"
      ]
    },
    {
      "cell_type": "code",
      "metadata": {
        "id": "KDNKRoKRCeMk"
      },
      "source": [
        "!pip install fbprophet\n"
      ],
      "execution_count": null,
      "outputs": []
    },
    {
      "cell_type": "code",
      "metadata": {
        "id": "e4Z8Ul4vC2jG"
      },
      "source": [
        "import pandas as pd\n",
        "from fbprophet import Prophet\n",
        "import numpy as np\n"
      ],
      "execution_count": null,
      "outputs": []
    },
    {
      "cell_type": "code",
      "metadata": {
        "id": "zTXRhFdTC__N"
      },
      "source": [
        "#Edit for a specific task delete later\n",
        "cases_mh=[320,15,88,67,148,110,121,149,117,229,210,187,235,344,350,226,288,119,328,553,472,553,431,778,394,811,440,522,728,597,583,1008,790,678,771,841,1233,1216,1089,1165,1278,1230,1026,1495,1602,1576,1606,2347,2033,2127,2250,2345,2940,2608,3041,2436,2091,2190,2598,2682,2940] #Cases daily MH 320,100\n",
        "cases_in=[1436,404,701,598,553,603,417,652,540,678,1035,909,807,1206,1073,938,1006,992,1334,1554,1345,1384,1395,1684,1432,1990,1396,1543,1897,1718,1993,2293,2644,2553,3900,2958,3561,3390,3320,3277,4213,3604,3525,3722,3967,3790,4987,5242,4970,5611,5609,6088,6654,6767,6977,6535,6387,6566,7466,7964,8380] #Cases India 1436,236\n",
        "deaths_in=[6,7,18,15,10,24,12,28,17,33,40,34,34,37,38,37,23,43,27,36,47,50,41,37,57,49,48,62,73,67,73,71,83,72,195,126,89,103,95,128,97,87,122,134,100,103,120,157,134,140,132,148,137,147,154,146,170,194,175,265,193]  #Deaths in India daily 6\n",
        "deaths_mh=[2,1,7,6,6,13,7,12,8,25,13,17,21,12,18,9,7,7,10,12,9,19,18,14,18,22,19,27,31,32,27,26,36,27,35,34,34,43,37,48,53,36,53,54,44,49,67,63,51,76,65,64,63,60,58,60,97,105,85,116,99]   # Death in Maharastra Daily 2\n",
        "gen_male=[144,56,5,60,43,94,67,65,88,96,124,116,117,114,198,213,142,184,79,176,352,287,363,257,454,248,514,250,311,436,367,339,627,494,434,462,1098,749,791,724,706,1211,771,627,902,1014,976,1017,1484,1220,1338,1352,1513,1838,1604,1938,1526,1243,1402,1677,1685] #Males contracting Covid-19\n",
        "gen_female=[86,36,8,28,24,51,46,52,64,39,98,83,65,112,154,137,90,102,39,152,200,179,189,174,324,142,297,190,186,293,229,244,381,296,244,309,682,484,425,365,459,732,459,398,592,588,600,589,863,786,713,828,832,1102,1004,1103,910,848,785,920,998] #Females Contracting Covid-19\n",
        "dates=pd.date_range(start='4/1/2020', end='5/31/2020')\n",
        "days=[i for i in range(len(dates)) ]\n",
        "y_list=cases_in\n",
        "dataset=pd.DataFrame({'ds':dates,'y':y_list})\n",
        "dataset['y']=dataset['y'].cumsum()\n",
        "\n",
        "\n",
        "dataset['y']=dataset['y'].apply(lambda x :np.log(x))\n",
        "dataset['ds']=dataset['ds'].apply(lambda x :str(x))\n",
        "dataset.head()"
      ],
      "execution_count": null,
      "outputs": []
    },
    {
      "cell_type": "code",
      "metadata": {
        "id": "WzVPTgvtDHpf"
      },
      "source": [
        "m = Prophet()\n",
        "m.fit(dataset)"
      ],
      "execution_count": null,
      "outputs": []
    },
    {
      "cell_type": "code",
      "metadata": {
        "id": "Jz8Yo16nG2uz"
      },
      "source": [
        "future = m.make_future_dataframe(periods=30)\n",
        "future.tail()"
      ],
      "execution_count": null,
      "outputs": []
    },
    {
      "cell_type": "code",
      "metadata": {
        "id": "MlPSSyj1Hnvw"
      },
      "source": [
        "forecast = m.predict(future)\n",
        "forecast[['ds', 'yhat', 'yhat_lower', 'yhat_upper']].head()"
      ],
      "execution_count": null,
      "outputs": []
    },
    {
      "cell_type": "code",
      "metadata": {
        "id": "FXqiSgzwHul7"
      },
      "source": [
        "\n",
        "fig1 = m.plot(forecast)"
      ],
      "execution_count": null,
      "outputs": []
    },
    {
      "cell_type": "code",
      "metadata": {
        "id": "MPN8aHjfH5zQ"
      },
      "source": [
        "import matplotlib.pyplot as plt\n",
        "plt.plot(dataset['y'].tolist())\n",
        "plt.show()"
      ],
      "execution_count": null,
      "outputs": []
    },
    {
      "cell_type": "code",
      "metadata": {
        "id": "kftSs-BuIdnX"
      },
      "source": [
        "forecast['pp']=forecast['yhat'].apply(lambda x : np.exp(x))"
      ],
      "execution_count": null,
      "outputs": []
    },
    {
      "cell_type": "code",
      "metadata": {
        "id": "jVYx94vCIpXP"
      },
      "source": [
        "forecast['yhat']=forecast['yhat'].apply(lambda x : np.exp(x))\n",
        "forecast['yhat_lower']=forecast['yhat_lower'].apply(lambda x : int(float(np.exp(x))))\n",
        "forecast['yhat_upper']=forecast['yhat_upper'].apply(lambda x : int(float(np.exp(x))))\n",
        "forecast[61:]"
      ],
      "execution_count": null,
      "outputs": []
    },
    {
      "cell_type": "code",
      "metadata": {
        "id": "tNZQfMhAI_CJ"
      },
      "source": [
        "forecast['yhat']=forecast['yhat'].apply(lambda x : np.exp(x))\n",
        "forecast['yhat_lower']=forecast['yhat_lower'].apply(lambda x : int(float(np.exp(x))))\n",
        "forecast['yhat_upper']=forecast['yhat_upper'].apply(lambda x : int(float(np.exp(x))))\n",
        "forecast[61:]"
      ],
      "execution_count": null,
      "outputs": []
    },
    {
      "cell_type": "code",
      "metadata": {
        "id": "aEwyI1BjJHyz"
      },
      "source": [
        ""
      ],
      "execution_count": null,
      "outputs": []
    }
  ]
}