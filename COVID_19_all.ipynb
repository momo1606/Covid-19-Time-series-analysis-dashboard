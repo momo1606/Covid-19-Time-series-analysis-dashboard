{
  "nbformat": 4,
  "nbformat_minor": 0,
  "metadata": {
    "colab": {
      "name": "COVID-19 all.ipynb",
      "provenance": [],
      "collapsed_sections": [],
      "include_colab_link": true
    },
    "kernelspec": {
      "name": "python3",
      "display_name": "Python 3"
    }
  },
  "cells": [
    {
      "cell_type": "markdown",
      "metadata": {
        "id": "view-in-github",
        "colab_type": "text"
      },
      "source": [
        "<a href=\"https://colab.research.google.com/github/momo1606/Covid-19-Time-series-prediction-dashboard/blob/master/COVID_19_all.ipynb\" target=\"_parent\"><img src=\"https://colab.research.google.com/assets/colab-badge.svg\" alt=\"Open In Colab\"/></a>"
      ]
    },
    {
      "cell_type": "code",
      "metadata": {
        "id": "W2gFjMaBbOTm",
        "colab": {
          "base_uri": "https://localhost:8080/",
          "height": 101
        },
        "outputId": "c99ba7e6-5250-4cf1-f06d-364b669a2f2d"
      },
      "source": [
        "! pip install pygal\n"
      ],
      "execution_count": null,
      "outputs": [
        {
          "output_type": "stream",
          "text": [
            "Collecting pygal\n",
            "\u001b[?25l  Downloading https://files.pythonhosted.org/packages/5f/b7/201c9254ac0d2b8ffa3bb2d528d23a4130876d9ba90bc28e99633f323f17/pygal-2.4.0-py2.py3-none-any.whl (127kB)\n",
            "\r\u001b[K     |██▋                             | 10kB 14.9MB/s eta 0:00:01\r\u001b[K     |█████▏                          | 20kB 2.9MB/s eta 0:00:01\r\u001b[K     |███████▊                        | 30kB 4.1MB/s eta 0:00:01\r\u001b[K     |██████████▎                     | 40kB 4.3MB/s eta 0:00:01\r\u001b[K     |████████████▉                   | 51kB 3.3MB/s eta 0:00:01\r\u001b[K     |███████████████▍                | 61kB 3.7MB/s eta 0:00:01\r\u001b[K     |██████████████████              | 71kB 3.9MB/s eta 0:00:01\r\u001b[K     |████████████████████▌           | 81kB 4.4MB/s eta 0:00:01\r\u001b[K     |███████████████████████▏        | 92kB 4.5MB/s eta 0:00:01\r\u001b[K     |█████████████████████████▊      | 102kB 4.4MB/s eta 0:00:01\r\u001b[K     |████████████████████████████▎   | 112kB 4.4MB/s eta 0:00:01\r\u001b[K     |██████████████████████████████▉ | 122kB 4.4MB/s eta 0:00:01\r\u001b[K     |████████████████████████████████| 133kB 4.4MB/s \n",
            "\u001b[?25hInstalling collected packages: pygal\n",
            "Successfully installed pygal-2.4.0\n"
          ],
          "name": "stdout"
        }
      ]
    },
    {
      "cell_type": "code",
      "metadata": {
        "id": "78JNC2VmRv5_"
      },
      "source": [
        "import warnings\n",
        "warnings.filterwarnings('ignore')"
      ],
      "execution_count": null,
      "outputs": []
    },
    {
      "cell_type": "code",
      "metadata": {
        "id": "oLpnuBWQdcfl"
      },
      "source": [
        "import pandas as pd\n",
        "import numpy as np\n",
        "#import pygal"
      ],
      "execution_count": null,
      "outputs": []
    },
    {
      "cell_type": "code",
      "metadata": {
        "id": "Z2pUO9hheFKa"
      },
      "source": [
        "def get_data(y,typ):\n",
        "  cases_mh=[100,15,88,67,148,110,121,149,117,229,210,187,235,344,350,226,288,119,328,553,472,553,431,778,394,811,440,522,728,597,583,1008,790,678,771,841,1233,1216,1089,1165,1278,1230,1026,1495,1602,1576,1606,2347,2033,2127,2250,2345,2940,2608,3041,2436,2091,2190,2598,2682,2940] #Cases daily MH 320,100\n",
        "  cases_in=[236,404,701,598,553,603,417,652,540,678,1035,909,807,1206,1073,938,1006,992,1334,1554,1345,1384,1395,1684,1432,1990,1396,1543,1897,1718,1993,2293,2644,2553,3900,2958,3561,3390,3320,3277,4213,3604,3525,3722,3967,3790,4987,5242,4970,5611,5609,6088,6654,6767,6977,6535,6387,6566,7466,7964,8380] #Cases India 1436,236\n",
        "  deaths_in=[6,7,18,15,10,24,12,28,17,33,40,34,34,37,38,37,23,43,27,36,47,50,41,37,57,49,48,62,73,67,73,71,83,72,195,126,89,103,95,128,97,87,122,134,100,103,120,157,134,140,132,148,137,147,154,146,170,194,175,265,193]  #Deaths in India daily 6\n",
        "  deaths_mh=[2,1,7,6,6,13,7,12,8,25,13,17,21,12,18,9,7,7,10,12,9,19,18,14,18,22,19,27,31,32,27,26,36,27,35,34,34,43,37,48,53,36,53,54,44,49,67,63,51,76,65,64,63,60,58,60,97,105,85,116,99]   # Death in Maharastra Daily 2\n",
        "  gen_male=[144,56,5,60,43,94,67,65,88,96,124,116,117,114,198,213,142,184,79,176,352,287,363,257,454,248,514,250,311,436,367,339,627,494,434,462,1098,749,791,724,706,1211,771,627,902,1014,976,1017,1484,1220,1338,1352,1513,1838,1604,1938,1526,1243,1402,1677,1685] #Males contracting Covid-19\n",
        "  gen_female=[86,36,8,28,24,51,46,52,64,39,98,83,65,112,154,137,90,102,39,152,200,179,189,174,324,142,297,190,186,293,229,244,381,296,244,309,682,484,425,365,459,732,459,398,592,588,600,589,863,786,713,828,832,1102,1004,1103,910,848,785,920,998] #Females Contracting Covid-19\n",
        "\n",
        "  dates=pd.date_range(start='4/1/2020', end='5/31/2020')\n",
        "  days=[i for i in range(len(dates)) ]\n",
        "\n",
        "  if y=='cin':\n",
        "    y_list= cases_in\n",
        "  if y=='cmh':\n",
        "    y_list=cases_mh\n",
        "  if y=='din':\n",
        "    y_list=deaths_in\n",
        "  if y=='dmh':\n",
        "    y_list=deaths_mh\n",
        "  if y=='gmale':\n",
        "    y_list=gen_male\n",
        "  if y=='gfemale':\n",
        "    y_list=gen_female\n",
        "      \n",
        "  dataset=pd.DataFrame({'dates':dates,\"y\":y_list,'days':days})\n",
        "  if typ=='cum':\n",
        "    dataset[\"y\"]=dataset[\"y\"].cumsum()\n",
        "  elif typ=='log':\n",
        "    dataset[\"y\"]=dataset[\"y\"].cumsum()\n",
        "    dataset[\"y\"]=dataset[\"y\"].apply(lambda x :np.log(x))\n",
        "  elif typ=='dlog':\n",
        "    dataset[\"y\"]=dataset[\"y\"].apply(lambda x :np.log(x))\n",
        "  return dataset"
      ],
      "execution_count": null,
      "outputs": []
    },
    {
      "cell_type": "code",
      "metadata": {
        "id": "Y-ZKeKf-i1U-"
      },
      "source": [
        "from sklearn.model_selection import train_test_split\n",
        "from sklearn.preprocessing import PolynomialFeatures\n",
        "from sklearn.linear_model import LinearRegression\n",
        "from sklearn.metrics import r2_score\n",
        "def poly_reg(dataset,typ,nxt=5):\n",
        "  \"\"\"\n",
        "  A polynomial regression function with variable dataset containing X and y only\n",
        "  and outputs a list of predictions\n",
        "  \"\"\"\n",
        "  #dataset = pd.read_csv('ENTER_THE_NAME_OF_YOUR_DATASET_HERE.csv')\n",
        "  X = dataset.iloc[:, :-1].values\n",
        "  y = dataset.iloc[:, -1].values\n",
        "  X_train, X_test, y_train, y_test = train_test_split(X, y, test_size = 0.2, random_state = 0)\n",
        "  poly_reg = PolynomialFeatures(degree = 3)\n",
        "  X_poly = poly_reg.fit_transform(X_train)\n",
        "  regressor = LinearRegression()\n",
        "  regressor.fit(X_poly, y_train)\n",
        "  y_pred = regressor.predict(poly_reg.transform(X_test))\n",
        "  np.set_printoptions(precision=2)\n",
        "  #print(np.concatenate((y_pred.reshape(len(y_pred),1), y_test.reshape(len(y_test),1)),1))\n",
        "  print(r2_score(y_test, y_pred))\n",
        "  preds=[]\n",
        "  for i in range(nxt):\n",
        "      if typ=='log' or typ=='dlog':\n",
        "          preds.append(np.exp(regressor.predict(poly_reg.fit_transform([[len(dataset)]])))[0])\n",
        "      else:\n",
        "          preds.append(regressor.predict(poly_reg.fit_transform([[len(dataset)+i]]))[0])\n",
        "\n",
        "  return preds\n"
      ],
      "execution_count": null,
      "outputs": []
    },
    {
      "cell_type": "code",
      "metadata": {
        "id": "o29OoLR1omjc"
      },
      "source": [
        "from sklearn.linear_model import LinearRegression\n",
        "\n",
        "def mul_linear_reg(dataset,typ,nxt=5):\n",
        "\n",
        "  \"\"\"\n",
        "  A multinomial linear regression function with variable dataset containing X and y only\n",
        "  and outputs a list of predictions\n",
        "  \"\"\"\n",
        "  #dataset = pd.read_csv('ENTER_THE_NAME_OF_YOUR_DATASET_HERE.csv')\n",
        "  X = dataset.iloc[:, :-1].values\n",
        "  y = dataset.iloc[:, -1].values\n",
        "  X_train, X_test, y_train, y_test = train_test_split(X, y, test_size = 0.2, random_state = 0)\n",
        "  regressor = LinearRegression()\n",
        "  regressor.fit(X_train, y_train)\n",
        "  y_pred = regressor.predict(X_test)\n",
        "  np.set_printoptions(precision=2)\n",
        "  #print(np.concatenate((y_pred.reshape(len(y_pred),1), y_test.reshape(len(y_test),1)),1))\n",
        "  print(r2_score(y_test, y_pred))\n",
        "  #Extrass\n",
        "  preds=[]\n",
        "  for i in range(nxt):\n",
        "    if typ=='log' or typ=='dlog':\n",
        "      preds.append(np.exp(regressor.predict(np.array([[len(dataset)+i]]))[0]))\n",
        "    else:\n",
        "      preds.append(regressor.predict(np.array([[len(dataset)+i]]))[0])\n",
        "  return preds\n"
      ],
      "execution_count": null,
      "outputs": []
    },
    {
      "cell_type": "code",
      "metadata": {
        "id": "YZIF5aVOqDlf"
      },
      "source": [
        "from fbprophet import Prophet\n",
        "def prophet_pred(dataset,typ,nxt=5):\n",
        "  \"\"\"\n",
        "  This uses facebook prophet to forecast the time series.\n",
        "  Ds and Y should be the only input\n",
        "  Ds is dates in str type like \"29 Apr 2020\" or the general format yyyy:dd:mm hh:mm:ss and y is the thing to be predicted\n",
        "  output is quite complex \n",
        "  the columns are - ds,trend,yhat_lower,yhat_upper,trend_lower,trend_upper,additive_terms,additive_terms_lower,additive_terms_upper,weekly,weekly_lower,weekly_upper,multiplicative_terms,multiplicative_terms_lower,multiplicative_terms_upper,yhat\n",
        "  \"\"\"\n",
        "  dataset['ds']=dataset['dates']\n",
        "  dataset['ds']=dataset['ds'].apply(lambda x :str(x))\n",
        "  dataset=dataset[['ds','y']]\n",
        "  m = Prophet(daily_seasonality=True,yearly_seasonality=False)\n",
        "  m.fit(dataset)\n",
        "  future = m.make_future_dataframe(periods=nxt)\n",
        "  future.tail()\n",
        "  forecast = m.predict(future)\n",
        "  if typ=='log' or typ=='dlog':\n",
        "    return np.exp(forecast['yhat'][-nxt:].tolist())\n",
        "  else:\n",
        "    return forecast['yhat'][-nxt:].tolist()\n",
        "\n"
      ],
      "execution_count": null,
      "outputs": []
    },
    {
      "cell_type": "code",
      "metadata": {
        "id": "5t71WCKer6tZ"
      },
      "source": [
        "from statsmodels.tsa.arima_model import ARIMA\n",
        "def arima_pred(dataset,typ,nxt=5,orde=(2,1,1)):\n",
        "  \"\"\"\n",
        "  This is a ARIMA model that takes the dataset in the input and the order which is a statistical term required for ARIMA\n",
        "  Output is in yhat and a list only\n",
        "  \"\"\"\n",
        "  model = ARIMA(list(dataset['y']), order=orde)\n",
        "  model_fit = model.fit(disp=False)\n",
        "  yhat = model_fit.predict(len(dataset),len(dataset)+nxt-1, typ='levels')\n",
        "  if typ=='log' or typ=='dlog':  \n",
        "    return list(np.exp(yhat))\n",
        "  else:\n",
        "    return list(yhat)\n"
      ],
      "execution_count": null,
      "outputs": []
    },
    {
      "cell_type": "code",
      "metadata": {
        "id": "qee9aIdSvvT6"
      },
      "source": [
        "from statsmodels.tsa.statespace.sarimax import SARIMAX\n",
        "from random import random\n",
        "# contrived dataset\n",
        "def sarima_pred(dataset,typ,nxt=5):\n",
        "  data =dataset['y']\n",
        "  # fit model\n",
        "  model = SARIMAX(data, order=(4, 1,1), seasonal_order=(1, 2, 1, 1))\n",
        "  model_fit = model.fit(disp=False)\n",
        "  # make prediction\n",
        "  yhat = model_fit.predict(len(dataset),len(dataset)+nxt-1)\n",
        "  if typ=='log' or typ=='dlog':\n",
        "    return np.exp(yhat.tolist())\n",
        "  else:\n",
        "    return yhat.tolist()"
      ],
      "execution_count": null,
      "outputs": []
    },
    {
      "cell_type": "code",
      "metadata": {
        "id": "LZyANKqbtsyR"
      },
      "source": [
        "\n",
        "# typ=\"log\"\n",
        "# o=(2,1,1)\n",
        "# for y in ['cin','cmh','din','dmh','gmale','gfemale']:\n",
        "#   dataset=get_data(y,typ)\n",
        "#   #pred1=poly_reg(dataset[['days','y']],typ)\n",
        "#   #pred2=mul_linear_reg(dataset[['days','y']],typ)\n",
        "#   pred3=prophet_pred(dataset,typ)\n",
        "#   pred4=arima_pred(dataset,typ,orde=o)\n",
        "#   line_chart = pygal.Line()\n",
        "#   line_chart.title = 'Model Comparisions'\n",
        "#   line_chart.x_labels = map(str, range(35))\n",
        "#   #line_chart.add('Polynomial Regression',list(np.exp(dataset['y']))+pred1)\n",
        "#   #line_chart.add('Multiple Linear Regression',list(np.exp(dataset['y']))+pred2)\n",
        "#   line_chart.add('Prophet',list(np.exp(dataset['y']))+list(pred3))\n",
        "#   line_chart.add('ARIMA',list(np.exp(dataset['y']))+list(pred4))\n",
        "#   line_chart.add('First 30 days',dataset['y'])\n",
        "#   #line_chart.render_in_browser()\n",
        "#   line_chart.render_to_file(y+'_'+typ+'.svg')\n"
      ],
      "execution_count": null,
      "outputs": []
    },
    {
      "cell_type": "code",
      "metadata": {
        "id": "KDVoeYAc4ubR"
      },
      "source": [
        "# typ=\"cum\"\n",
        "# typ2=\"log\"\n",
        "# o=(2,1,1)\n",
        "# for y in ['cin','cmh','din','dmh','gmale','gfemale']:\n",
        "#   dataset=get_data(y,typ)\n",
        "#   dataset2=get_data(y,typ2)\n",
        "#   pred1=poly_reg(dataset[['days','y']],typ)\n",
        "#   pred2=mul_linear_reg(dataset[['days','y']],typ)\n",
        "#   pred3=prophet_pred(dataset,typ)\n",
        "#   pred4=arima_pred(dataset,typ,orde=o)\n",
        "#   pred5=arima_pred(dataset2,typ2,orde=(1,2,0))\n",
        "#   pred6=sarima_pred(dataset,typ)\n",
        "#   #pred7=sarima_pred(dataset2,typ2)\n",
        "#   line_chart = pygal.Line()\n",
        "#   line_chart.title = 'Model Comparisions'\n",
        "#   line_chart.x_labels = map(str, range(35))\n",
        "#   line_chart.add('Polynomial Regression',list(dataset['y'])+pred1)\n",
        "#   line_chart.add('Multiple Linear Regression',list(dataset['y'])+pred2)\n",
        "#   line_chart.add('Prophet',list(dataset['y'])+list(pred3))\n",
        "#   line_chart.add('ARIMA',list(dataset['y'])+list(pred4))\n",
        "#   #line_chart.add('ARIMA with log of daily values',list(np.exp(dataset2['y']))+list(pred5))\n",
        "#   line_chart.add('SARIMA',list(dataset['y'])+list(pred6))\n",
        "#   #line_chart.add('SARIMA with log',list(np.exp(dataset2['y']))+list(pred7))\n",
        "#   line_chart.add('First 30 days',dataset['y'])\n",
        "#   #line_chart.render_in_browser()\n",
        "#   line_chart.render_to_file(y+'_'+typ+'.svg')"
      ],
      "execution_count": null,
      "outputs": []
    },
    {
      "cell_type": "code",
      "metadata": {
        "id": "b7T1y6dUtnQG"
      },
      "source": [
        "typ=\"norm\"\n",
        "dataset=get_data(\"cin\",typ)"
      ],
      "execution_count": null,
      "outputs": []
    },
    {
      "cell_type": "code",
      "metadata": {
        "id": "xZAbHruF3g5u"
      },
      "source": [
        "df=dataset[1:-10]"
      ],
      "execution_count": null,
      "outputs": []
    },
    {
      "cell_type": "code",
      "metadata": {
        "id": "foAoylvj4C6z"
      },
      "source": [
        "test=dataset[-10:]"
      ],
      "execution_count": null,
      "outputs": []
    },
    {
      "cell_type": "code",
      "metadata": {
        "id": "N3ldBDF3KIXV"
      },
      "source": [
        "pred1=poly_reg(df[['days','y']],typ,nxt=10)\n",
        "pred2=mul_linear_reg(df[['days','y']],typ,nxt=10)\n",
        "pred3=prophet_pred(df,typ,nxt=10)\n",
        "pred4=arima_pred(df,typ,orde=(2,1,2),nxt=10)\n",
        "pred5=sarima_pred(df,typ,10)\n",
        "pred=[pred1,pred2,pred3,pred4,pred5]"
      ],
      "execution_count": null,
      "outputs": []
    },
    {
      "cell_type": "code",
      "metadata": {
        "id": "hfpRWYHtLP7J"
      },
      "source": [
        "def MAPE(pred,typ,df,test):\n",
        "  v=[]\n",
        "  for p in pred:\n",
        "    act=np.array(test['y'].tolist())\n",
        "    if typ=='log' or typ=='dlog':\n",
        "        act=np.exp(act)\n",
        "    f=np.array(p)\n",
        "    value=(np.sum((np.absolute(act-f))/act))*100/len(f)\n",
        "    v.append(value)\n",
        "  return v\n",
        "    "
      ],
      "execution_count": null,
      "outputs": []
    },
    {
      "cell_type": "code",
      "metadata": {
        "id": "fUYFmlC0Ng1e"
      },
      "source": [
        "MAPE(pred,typ,df,test)"
      ],
      "execution_count": null,
      "outputs": []
    },
    {
      "cell_type": "code",
      "metadata": {
        "id": "Tq3byEbwRD96",
        "colab": {
          "base_uri": "https://localhost:8080/",
          "height": 1000
        },
        "outputId": "0c7b685d-a0f0-4a70-ac0c-8fd8dce3fe3b"
      },
      "source": [
        "for x in ['cin','cmh']:\n",
        "  print(\"For \"+str(x))\n",
        "  for typ in ['norm','log','cum','dlog']:\n",
        "    print(\"*For \"+str(typ))\n",
        "    for days in [10,5,3,1]:\n",
        "      print(\"\\tFor \"+str(days))\n",
        "      dataset=get_data(x,typ)\n",
        "      df=dataset[1:-days]\n",
        "      test=dataset[-days:]\n",
        "      #pred1=poly_reg(df[['days','y']],typ,nxt=days)\n",
        "      #pred2=mul_linear_reg(df[['days','y']],typ,nxt=days)\n",
        "      pred3=prophet_pred(df,typ,nxt=days)\n",
        "      try:\n",
        "        pred4=arima_pred(df,typ,orde=(1,2,0),nxt=days)\n",
        "      except:\n",
        "        pred4=arima_pred(df,typ,orde=(4,1,1),nxt=days)\n",
        "      pred5=sarima_pred(df,typ,days)\n",
        "      pred=[pred3,pred4,pred5]\n",
        "      v=MAPE(pred,typ,df,test)\n",
        "      print(\"\\t\\tProphet \"+str(v[0]))\n",
        "      print(\"\\t\\tARIMA \"+str(v[1]))\n",
        "      print(\"\\t\\tSarima\"+str(v[2]))\n",
        "  print('---------------------------------------------')"
      ],
      "execution_count": null,
      "outputs": [
        {
          "output_type": "stream",
          "text": [
            "For cin\n",
            "*For norm\n",
            "\tFor 10\n",
            "\t\tProphet 17.55294640018142\n",
            "\t\tARIMA 6.455411730776875\n",
            "\t\tSarima7.73537502252762\n",
            "\tFor 5\n",
            "\t\tProphet 7.702038511039516\n",
            "\t\tARIMA 16.875087289499888\n",
            "\t\tSarima4.64338011980983\n",
            "\tFor 3\n",
            "\t\tProphet 13.25991596230566\n",
            "\t\tARIMA 16.845108909515933\n",
            "\t\tSarima16.47025029278184\n",
            "\tFor 1\n",
            "\t\tProphet 11.314467913919128\n",
            "\t\tARIMA 4.3870289373711815\n",
            "\t\tSarima0.633384020789773\n",
            "*For log\n",
            "\tFor 10\n",
            "\t\tProphet 99.78590837134263\n",
            "\t\tARIMA 30.251077260557953\n",
            "\t\tSarima1.0977024633855132\n",
            "\tFor 5\n",
            "\t\tProphet 99.78366653582965\n",
            "\t\tARIMA 9.785484937317616\n",
            "\t\tSarima4.902184042417526\n",
            "\tFor 3\n",
            "\t\tProphet 99.7836700272806\n",
            "\t\tARIMA 4.0708524274918165\n",
            "\t\tSarima1.6899287562474503\n",
            "\tFor 1\n",
            "\t\tProphet 99.78548708405874\n",
            "\t\tARIMA 0.6123966943881647\n",
            "\t\tSarima0.4153190330632342\n",
            "*For cum\n",
            "\tFor 10\n",
            "\t\tProphet 10.054492912736626\n",
            "\t\tARIMA 2.180049835641202\n",
            "\t\tSarima2.316326187190143\n",
            "\tFor 5\n",
            "\t\tProphet 4.271377919018955\n",
            "\t\tARIMA 0.43184900327814635\n",
            "\t\tSarima0.39943376342103154\n",
            "\tFor 3\n",
            "\t\tProphet 3.3743656373374926\n",
            "\t\tARIMA 1.2097739829614402\n",
            "\t\tSarima0.9250165171574566\n",
            "\tFor 1\n",
            "\t\tProphet 2.567783605009324\n",
            "\t\tARIMA 0.23454551299896867\n",
            "\t\tSarima0.06107261272978521\n",
            "*For dlog\n",
            "\tFor 10\n",
            "\t\tProphet 99.68287201066224\n",
            "\t\tARIMA 6.816323775683529\n",
            "\t\tSarima7.451670113826795\n",
            "\tFor 5\n"
          ],
          "name": "stdout"
        },
        {
          "output_type": "error",
          "ename": "KeyboardInterrupt",
          "evalue": "ignored",
          "traceback": [
            "\u001b[0;31m---------------------------------------------------------------------------\u001b[0m",
            "\u001b[0;31mKeyboardInterrupt\u001b[0m                         Traceback (most recent call last)",
            "\u001b[0;32m<ipython-input-30-603a0012cd4c>\u001b[0m in \u001b[0;36m<module>\u001b[0;34m()\u001b[0m\n\u001b[1;32m     10\u001b[0m       \u001b[0;31m#pred1=poly_reg(df[['days','y']],typ,nxt=days)\u001b[0m\u001b[0;34m\u001b[0m\u001b[0;34m\u001b[0m\u001b[0;34m\u001b[0m\u001b[0m\n\u001b[1;32m     11\u001b[0m       \u001b[0;31m#pred2=mul_linear_reg(df[['days','y']],typ,nxt=days)\u001b[0m\u001b[0;34m\u001b[0m\u001b[0;34m\u001b[0m\u001b[0;34m\u001b[0m\u001b[0m\n\u001b[0;32m---> 12\u001b[0;31m       \u001b[0mpred3\u001b[0m\u001b[0;34m=\u001b[0m\u001b[0mprophet_pred\u001b[0m\u001b[0;34m(\u001b[0m\u001b[0mdf\u001b[0m\u001b[0;34m,\u001b[0m\u001b[0mtyp\u001b[0m\u001b[0;34m,\u001b[0m\u001b[0mnxt\u001b[0m\u001b[0;34m=\u001b[0m\u001b[0mdays\u001b[0m\u001b[0;34m)\u001b[0m\u001b[0;34m\u001b[0m\u001b[0;34m\u001b[0m\u001b[0m\n\u001b[0m\u001b[1;32m     13\u001b[0m       \u001b[0;32mtry\u001b[0m\u001b[0;34m:\u001b[0m\u001b[0;34m\u001b[0m\u001b[0;34m\u001b[0m\u001b[0m\n\u001b[1;32m     14\u001b[0m         \u001b[0mpred4\u001b[0m\u001b[0;34m=\u001b[0m\u001b[0marima_pred\u001b[0m\u001b[0;34m(\u001b[0m\u001b[0mdf\u001b[0m\u001b[0;34m,\u001b[0m\u001b[0mtyp\u001b[0m\u001b[0;34m,\u001b[0m\u001b[0morde\u001b[0m\u001b[0;34m=\u001b[0m\u001b[0;34m(\u001b[0m\u001b[0;36m1\u001b[0m\u001b[0;34m,\u001b[0m\u001b[0;36m2\u001b[0m\u001b[0;34m,\u001b[0m\u001b[0;36m0\u001b[0m\u001b[0;34m)\u001b[0m\u001b[0;34m,\u001b[0m\u001b[0mnxt\u001b[0m\u001b[0;34m=\u001b[0m\u001b[0mdays\u001b[0m\u001b[0;34m)\u001b[0m\u001b[0;34m\u001b[0m\u001b[0;34m\u001b[0m\u001b[0m\n",
            "\u001b[0;32m<ipython-input-29-59c38866f28b>\u001b[0m in \u001b[0;36mprophet_pred\u001b[0;34m(dataset, typ, nxt)\u001b[0m\n\u001b[1;32m     15\u001b[0m   \u001b[0mfuture\u001b[0m \u001b[0;34m=\u001b[0m \u001b[0mm\u001b[0m\u001b[0;34m.\u001b[0m\u001b[0mmake_future_dataframe\u001b[0m\u001b[0;34m(\u001b[0m\u001b[0mperiods\u001b[0m\u001b[0;34m=\u001b[0m\u001b[0mnxt\u001b[0m\u001b[0;34m)\u001b[0m\u001b[0;34m\u001b[0m\u001b[0;34m\u001b[0m\u001b[0m\n\u001b[1;32m     16\u001b[0m   \u001b[0mfuture\u001b[0m\u001b[0;34m.\u001b[0m\u001b[0mtail\u001b[0m\u001b[0;34m(\u001b[0m\u001b[0;34m)\u001b[0m\u001b[0;34m\u001b[0m\u001b[0;34m\u001b[0m\u001b[0m\n\u001b[0;32m---> 17\u001b[0;31m   \u001b[0mforecast\u001b[0m \u001b[0;34m=\u001b[0m \u001b[0mm\u001b[0m\u001b[0;34m.\u001b[0m\u001b[0mpredict\u001b[0m\u001b[0;34m(\u001b[0m\u001b[0mfuture\u001b[0m\u001b[0;34m)\u001b[0m\u001b[0;34m\u001b[0m\u001b[0;34m\u001b[0m\u001b[0m\n\u001b[0m\u001b[1;32m     18\u001b[0m   \u001b[0;32mif\u001b[0m \u001b[0mtyp\u001b[0m\u001b[0;34m==\u001b[0m\u001b[0;34m'log'\u001b[0m \u001b[0;32mor\u001b[0m \u001b[0mtyp\u001b[0m\u001b[0;34m==\u001b[0m\u001b[0;34m'dlog'\u001b[0m\u001b[0;34m:\u001b[0m\u001b[0;34m\u001b[0m\u001b[0;34m\u001b[0m\u001b[0m\n\u001b[1;32m     19\u001b[0m     \u001b[0;32mreturn\u001b[0m \u001b[0mnp\u001b[0m\u001b[0;34m.\u001b[0m\u001b[0mexp\u001b[0m\u001b[0;34m(\u001b[0m\u001b[0mforecast\u001b[0m\u001b[0;34m[\u001b[0m\u001b[0;34m'trend'\u001b[0m\u001b[0;34m]\u001b[0m\u001b[0;34m[\u001b[0m\u001b[0;34m-\u001b[0m\u001b[0mnxt\u001b[0m\u001b[0;34m:\u001b[0m\u001b[0;34m]\u001b[0m\u001b[0;34m.\u001b[0m\u001b[0mtolist\u001b[0m\u001b[0;34m(\u001b[0m\u001b[0;34m)\u001b[0m\u001b[0;34m)\u001b[0m\u001b[0;34m\u001b[0m\u001b[0;34m\u001b[0m\u001b[0m\n",
            "\u001b[0;32m/usr/local/lib/python3.6/dist-packages/fbprophet/forecaster.py\u001b[0m in \u001b[0;36mpredict\u001b[0;34m(self, df)\u001b[0m\n\u001b[1;32m   1177\u001b[0m         \u001b[0mseasonal_components\u001b[0m \u001b[0;34m=\u001b[0m \u001b[0mself\u001b[0m\u001b[0;34m.\u001b[0m\u001b[0mpredict_seasonal_components\u001b[0m\u001b[0;34m(\u001b[0m\u001b[0mdf\u001b[0m\u001b[0;34m)\u001b[0m\u001b[0;34m\u001b[0m\u001b[0;34m\u001b[0m\u001b[0m\n\u001b[1;32m   1178\u001b[0m         \u001b[0;32mif\u001b[0m \u001b[0mself\u001b[0m\u001b[0;34m.\u001b[0m\u001b[0muncertainty_samples\u001b[0m\u001b[0;34m:\u001b[0m\u001b[0;34m\u001b[0m\u001b[0;34m\u001b[0m\u001b[0m\n\u001b[0;32m-> 1179\u001b[0;31m             \u001b[0mintervals\u001b[0m \u001b[0;34m=\u001b[0m \u001b[0mself\u001b[0m\u001b[0;34m.\u001b[0m\u001b[0mpredict_uncertainty\u001b[0m\u001b[0;34m(\u001b[0m\u001b[0mdf\u001b[0m\u001b[0;34m)\u001b[0m\u001b[0;34m\u001b[0m\u001b[0;34m\u001b[0m\u001b[0m\n\u001b[0m\u001b[1;32m   1180\u001b[0m         \u001b[0;32melse\u001b[0m\u001b[0;34m:\u001b[0m\u001b[0;34m\u001b[0m\u001b[0;34m\u001b[0m\u001b[0m\n\u001b[1;32m   1181\u001b[0m             \u001b[0mintervals\u001b[0m \u001b[0;34m=\u001b[0m \u001b[0;32mNone\u001b[0m\u001b[0;34m\u001b[0m\u001b[0;34m\u001b[0m\u001b[0m\n",
            "\u001b[0;32m/usr/local/lib/python3.6/dist-packages/fbprophet/forecaster.py\u001b[0m in \u001b[0;36mpredict_uncertainty\u001b[0;34m(self, df)\u001b[0m\n\u001b[1;32m   1383\u001b[0m         \u001b[0mDataframe\u001b[0m \u001b[0;32mwith\u001b[0m \u001b[0muncertainty\u001b[0m \u001b[0mintervals\u001b[0m\u001b[0;34m.\u001b[0m\u001b[0;34m\u001b[0m\u001b[0;34m\u001b[0m\u001b[0m\n\u001b[1;32m   1384\u001b[0m         \"\"\"\n\u001b[0;32m-> 1385\u001b[0;31m         \u001b[0msim_values\u001b[0m \u001b[0;34m=\u001b[0m \u001b[0mself\u001b[0m\u001b[0;34m.\u001b[0m\u001b[0msample_posterior_predictive\u001b[0m\u001b[0;34m(\u001b[0m\u001b[0mdf\u001b[0m\u001b[0;34m)\u001b[0m\u001b[0;34m\u001b[0m\u001b[0;34m\u001b[0m\u001b[0m\n\u001b[0m\u001b[1;32m   1386\u001b[0m \u001b[0;34m\u001b[0m\u001b[0m\n\u001b[1;32m   1387\u001b[0m         \u001b[0mlower_p\u001b[0m \u001b[0;34m=\u001b[0m \u001b[0;36m100\u001b[0m \u001b[0;34m*\u001b[0m \u001b[0;34m(\u001b[0m\u001b[0;36m1.0\u001b[0m \u001b[0;34m-\u001b[0m \u001b[0mself\u001b[0m\u001b[0;34m.\u001b[0m\u001b[0minterval_width\u001b[0m\u001b[0;34m)\u001b[0m \u001b[0;34m/\u001b[0m \u001b[0;36m2\u001b[0m\u001b[0;34m\u001b[0m\u001b[0;34m\u001b[0m\u001b[0m\n",
            "\u001b[0;32m/usr/local/lib/python3.6/dist-packages/fbprophet/forecaster.py\u001b[0m in \u001b[0;36msample_posterior_predictive\u001b[0;34m(self, df)\u001b[0m\n\u001b[1;32m   1350\u001b[0m                 )\n\u001b[1;32m   1351\u001b[0m                 \u001b[0;32mfor\u001b[0m \u001b[0mkey\u001b[0m \u001b[0;32min\u001b[0m \u001b[0msim_values\u001b[0m\u001b[0;34m:\u001b[0m\u001b[0;34m\u001b[0m\u001b[0;34m\u001b[0m\u001b[0m\n\u001b[0;32m-> 1352\u001b[0;31m                     \u001b[0msim_values\u001b[0m\u001b[0;34m[\u001b[0m\u001b[0mkey\u001b[0m\u001b[0;34m]\u001b[0m\u001b[0;34m.\u001b[0m\u001b[0mappend\u001b[0m\u001b[0;34m(\u001b[0m\u001b[0msim\u001b[0m\u001b[0;34m[\u001b[0m\u001b[0mkey\u001b[0m\u001b[0;34m]\u001b[0m\u001b[0;34m)\u001b[0m\u001b[0;34m\u001b[0m\u001b[0;34m\u001b[0m\u001b[0m\n\u001b[0m\u001b[1;32m   1353\u001b[0m         \u001b[0;32mfor\u001b[0m \u001b[0mk\u001b[0m\u001b[0;34m,\u001b[0m \u001b[0mv\u001b[0m \u001b[0;32min\u001b[0m \u001b[0msim_values\u001b[0m\u001b[0;34m.\u001b[0m\u001b[0mitems\u001b[0m\u001b[0;34m(\u001b[0m\u001b[0;34m)\u001b[0m\u001b[0;34m:\u001b[0m\u001b[0;34m\u001b[0m\u001b[0;34m\u001b[0m\u001b[0m\n\u001b[1;32m   1354\u001b[0m             \u001b[0msim_values\u001b[0m\u001b[0;34m[\u001b[0m\u001b[0mk\u001b[0m\u001b[0;34m]\u001b[0m \u001b[0;34m=\u001b[0m \u001b[0mnp\u001b[0m\u001b[0;34m.\u001b[0m\u001b[0mcolumn_stack\u001b[0m\u001b[0;34m(\u001b[0m\u001b[0mv\u001b[0m\u001b[0;34m)\u001b[0m\u001b[0;34m\u001b[0m\u001b[0;34m\u001b[0m\u001b[0m\n",
            "\u001b[0;32m/usr/local/lib/python3.6/dist-packages/pandas/core/frame.py\u001b[0m in \u001b[0;36m__getitem__\u001b[0;34m(self, key)\u001b[0m\n\u001b[1;32m   2774\u001b[0m                 \u001b[0;32mif\u001b[0m \u001b[0mself\u001b[0m\u001b[0;34m.\u001b[0m\u001b[0mcolumns\u001b[0m\u001b[0;34m.\u001b[0m\u001b[0mnlevels\u001b[0m \u001b[0;34m>\u001b[0m \u001b[0;36m1\u001b[0m\u001b[0;34m:\u001b[0m\u001b[0;34m\u001b[0m\u001b[0;34m\u001b[0m\u001b[0m\n\u001b[1;32m   2775\u001b[0m                     \u001b[0;32mreturn\u001b[0m \u001b[0mself\u001b[0m\u001b[0;34m.\u001b[0m\u001b[0m_getitem_multilevel\u001b[0m\u001b[0;34m(\u001b[0m\u001b[0mkey\u001b[0m\u001b[0;34m)\u001b[0m\u001b[0;34m\u001b[0m\u001b[0;34m\u001b[0m\u001b[0m\n\u001b[0;32m-> 2776\u001b[0;31m                 \u001b[0;32mreturn\u001b[0m \u001b[0mself\u001b[0m\u001b[0;34m.\u001b[0m\u001b[0m_get_item_cache\u001b[0m\u001b[0;34m(\u001b[0m\u001b[0mkey\u001b[0m\u001b[0;34m)\u001b[0m\u001b[0;34m\u001b[0m\u001b[0;34m\u001b[0m\u001b[0m\n\u001b[0m\u001b[1;32m   2777\u001b[0m \u001b[0;34m\u001b[0m\u001b[0m\n\u001b[1;32m   2778\u001b[0m         \u001b[0;31m# Do we have a slicer (on rows)?\u001b[0m\u001b[0;34m\u001b[0m\u001b[0;34m\u001b[0m\u001b[0;34m\u001b[0m\u001b[0m\n",
            "\u001b[0;32m/usr/local/lib/python3.6/dist-packages/pandas/core/generic.py\u001b[0m in \u001b[0;36m_get_item_cache\u001b[0;34m(self, item)\u001b[0m\n\u001b[1;32m   3585\u001b[0m         \u001b[0;32mif\u001b[0m \u001b[0mres\u001b[0m \u001b[0;32mis\u001b[0m \u001b[0;32mNone\u001b[0m\u001b[0;34m:\u001b[0m\u001b[0;34m\u001b[0m\u001b[0;34m\u001b[0m\u001b[0m\n\u001b[1;32m   3586\u001b[0m             \u001b[0mvalues\u001b[0m \u001b[0;34m=\u001b[0m \u001b[0mself\u001b[0m\u001b[0;34m.\u001b[0m\u001b[0m_data\u001b[0m\u001b[0;34m.\u001b[0m\u001b[0mget\u001b[0m\u001b[0;34m(\u001b[0m\u001b[0mitem\u001b[0m\u001b[0;34m)\u001b[0m\u001b[0;34m\u001b[0m\u001b[0;34m\u001b[0m\u001b[0m\n\u001b[0;32m-> 3587\u001b[0;31m             \u001b[0mres\u001b[0m \u001b[0;34m=\u001b[0m \u001b[0mself\u001b[0m\u001b[0;34m.\u001b[0m\u001b[0m_box_item_values\u001b[0m\u001b[0;34m(\u001b[0m\u001b[0mitem\u001b[0m\u001b[0;34m,\u001b[0m \u001b[0mvalues\u001b[0m\u001b[0;34m)\u001b[0m\u001b[0;34m\u001b[0m\u001b[0;34m\u001b[0m\u001b[0m\n\u001b[0m\u001b[1;32m   3588\u001b[0m             \u001b[0mcache\u001b[0m\u001b[0;34m[\u001b[0m\u001b[0mitem\u001b[0m\u001b[0;34m]\u001b[0m \u001b[0;34m=\u001b[0m \u001b[0mres\u001b[0m\u001b[0;34m\u001b[0m\u001b[0;34m\u001b[0m\u001b[0m\n\u001b[1;32m   3589\u001b[0m             \u001b[0mres\u001b[0m\u001b[0;34m.\u001b[0m\u001b[0m_set_as_cached\u001b[0m\u001b[0;34m(\u001b[0m\u001b[0mitem\u001b[0m\u001b[0;34m,\u001b[0m \u001b[0mself\u001b[0m\u001b[0;34m)\u001b[0m\u001b[0;34m\u001b[0m\u001b[0;34m\u001b[0m\u001b[0m\n",
            "\u001b[0;32m/usr/local/lib/python3.6/dist-packages/pandas/core/frame.py\u001b[0m in \u001b[0;36m_box_item_values\u001b[0;34m(self, key, values)\u001b[0m\n\u001b[1;32m   3069\u001b[0m             \u001b[0;32mreturn\u001b[0m \u001b[0mself\u001b[0m\u001b[0;34m.\u001b[0m\u001b[0m_constructor\u001b[0m\u001b[0;34m(\u001b[0m\u001b[0mvalues\u001b[0m\u001b[0;34m.\u001b[0m\u001b[0mT\u001b[0m\u001b[0;34m,\u001b[0m \u001b[0mcolumns\u001b[0m\u001b[0;34m=\u001b[0m\u001b[0mitems\u001b[0m\u001b[0;34m,\u001b[0m \u001b[0mindex\u001b[0m\u001b[0;34m=\u001b[0m\u001b[0mself\u001b[0m\u001b[0;34m.\u001b[0m\u001b[0mindex\u001b[0m\u001b[0;34m)\u001b[0m\u001b[0;34m\u001b[0m\u001b[0;34m\u001b[0m\u001b[0m\n\u001b[1;32m   3070\u001b[0m         \u001b[0;32melse\u001b[0m\u001b[0;34m:\u001b[0m\u001b[0;34m\u001b[0m\u001b[0;34m\u001b[0m\u001b[0m\n\u001b[0;32m-> 3071\u001b[0;31m             \u001b[0;32mreturn\u001b[0m \u001b[0mself\u001b[0m\u001b[0;34m.\u001b[0m\u001b[0m_box_col_values\u001b[0m\u001b[0;34m(\u001b[0m\u001b[0mvalues\u001b[0m\u001b[0;34m,\u001b[0m \u001b[0mitems\u001b[0m\u001b[0;34m)\u001b[0m\u001b[0;34m\u001b[0m\u001b[0;34m\u001b[0m\u001b[0m\n\u001b[0m\u001b[1;32m   3072\u001b[0m \u001b[0;34m\u001b[0m\u001b[0m\n\u001b[1;32m   3073\u001b[0m     \u001b[0;32mdef\u001b[0m \u001b[0m_box_col_values\u001b[0m\u001b[0;34m(\u001b[0m\u001b[0mself\u001b[0m\u001b[0;34m,\u001b[0m \u001b[0mvalues\u001b[0m\u001b[0;34m,\u001b[0m \u001b[0mitems\u001b[0m\u001b[0;34m)\u001b[0m\u001b[0;34m:\u001b[0m\u001b[0;34m\u001b[0m\u001b[0;34m\u001b[0m\u001b[0m\n",
            "\u001b[0;32m/usr/local/lib/python3.6/dist-packages/pandas/core/frame.py\u001b[0m in \u001b[0;36m_box_col_values\u001b[0;34m(self, values, items)\u001b[0m\n\u001b[1;32m   3076\u001b[0m         \"\"\"\n\u001b[1;32m   3077\u001b[0m         \u001b[0mklass\u001b[0m \u001b[0;34m=\u001b[0m \u001b[0mself\u001b[0m\u001b[0;34m.\u001b[0m\u001b[0m_constructor_sliced\u001b[0m\u001b[0;34m\u001b[0m\u001b[0;34m\u001b[0m\u001b[0m\n\u001b[0;32m-> 3078\u001b[0;31m         \u001b[0;32mreturn\u001b[0m \u001b[0mklass\u001b[0m\u001b[0;34m(\u001b[0m\u001b[0mvalues\u001b[0m\u001b[0;34m,\u001b[0m \u001b[0mindex\u001b[0m\u001b[0;34m=\u001b[0m\u001b[0mself\u001b[0m\u001b[0;34m.\u001b[0m\u001b[0mindex\u001b[0m\u001b[0;34m,\u001b[0m \u001b[0mname\u001b[0m\u001b[0;34m=\u001b[0m\u001b[0mitems\u001b[0m\u001b[0;34m,\u001b[0m \u001b[0mfastpath\u001b[0m\u001b[0;34m=\u001b[0m\u001b[0;32mTrue\u001b[0m\u001b[0;34m)\u001b[0m\u001b[0;34m\u001b[0m\u001b[0;34m\u001b[0m\u001b[0m\n\u001b[0m\u001b[1;32m   3079\u001b[0m \u001b[0;34m\u001b[0m\u001b[0m\n\u001b[1;32m   3080\u001b[0m     \u001b[0;31m# ----------------------------------------------------------------------\u001b[0m\u001b[0;34m\u001b[0m\u001b[0;34m\u001b[0m\u001b[0;34m\u001b[0m\u001b[0m\n",
            "\u001b[0;32m/usr/local/lib/python3.6/dist-packages/pandas/core/series.py\u001b[0m in \u001b[0;36m__init__\u001b[0;34m(self, data, index, dtype, name, copy, fastpath)\u001b[0m\n\u001b[1;32m    308\u001b[0m \u001b[0;34m\u001b[0m\u001b[0m\n\u001b[1;32m    309\u001b[0m         \u001b[0mgeneric\u001b[0m\u001b[0;34m.\u001b[0m\u001b[0mNDFrame\u001b[0m\u001b[0;34m.\u001b[0m\u001b[0m__init__\u001b[0m\u001b[0;34m(\u001b[0m\u001b[0mself\u001b[0m\u001b[0;34m,\u001b[0m \u001b[0mdata\u001b[0m\u001b[0;34m,\u001b[0m \u001b[0mfastpath\u001b[0m\u001b[0;34m=\u001b[0m\u001b[0;32mTrue\u001b[0m\u001b[0;34m)\u001b[0m\u001b[0;34m\u001b[0m\u001b[0;34m\u001b[0m\u001b[0m\n\u001b[0;32m--> 310\u001b[0;31m         \u001b[0mself\u001b[0m\u001b[0;34m.\u001b[0m\u001b[0mname\u001b[0m \u001b[0;34m=\u001b[0m \u001b[0mname\u001b[0m\u001b[0;34m\u001b[0m\u001b[0;34m\u001b[0m\u001b[0m\n\u001b[0m\u001b[1;32m    311\u001b[0m         \u001b[0mself\u001b[0m\u001b[0;34m.\u001b[0m\u001b[0m_set_axis\u001b[0m\u001b[0;34m(\u001b[0m\u001b[0;36m0\u001b[0m\u001b[0;34m,\u001b[0m \u001b[0mindex\u001b[0m\u001b[0;34m,\u001b[0m \u001b[0mfastpath\u001b[0m\u001b[0;34m=\u001b[0m\u001b[0;32mTrue\u001b[0m\u001b[0;34m)\u001b[0m\u001b[0;34m\u001b[0m\u001b[0;34m\u001b[0m\u001b[0m\n\u001b[1;32m    312\u001b[0m \u001b[0;34m\u001b[0m\u001b[0m\n",
            "\u001b[0;32m/usr/local/lib/python3.6/dist-packages/pandas/core/generic.py\u001b[0m in \u001b[0;36m__setattr__\u001b[0;34m(self, name, value)\u001b[0m\n\u001b[1;32m   5284\u001b[0m \u001b[0;34m\u001b[0m\u001b[0m\n\u001b[1;32m   5285\u001b[0m         \u001b[0;32mtry\u001b[0m\u001b[0;34m:\u001b[0m\u001b[0;34m\u001b[0m\u001b[0;34m\u001b[0m\u001b[0m\n\u001b[0;32m-> 5286\u001b[0;31m             \u001b[0mobject\u001b[0m\u001b[0;34m.\u001b[0m\u001b[0m__getattribute__\u001b[0m\u001b[0;34m(\u001b[0m\u001b[0mself\u001b[0m\u001b[0;34m,\u001b[0m \u001b[0mname\u001b[0m\u001b[0;34m)\u001b[0m\u001b[0;34m\u001b[0m\u001b[0;34m\u001b[0m\u001b[0m\n\u001b[0m\u001b[1;32m   5287\u001b[0m             \u001b[0;32mreturn\u001b[0m \u001b[0mobject\u001b[0m\u001b[0;34m.\u001b[0m\u001b[0m__setattr__\u001b[0m\u001b[0;34m(\u001b[0m\u001b[0mself\u001b[0m\u001b[0;34m,\u001b[0m \u001b[0mname\u001b[0m\u001b[0;34m,\u001b[0m \u001b[0mvalue\u001b[0m\u001b[0;34m)\u001b[0m\u001b[0;34m\u001b[0m\u001b[0;34m\u001b[0m\u001b[0m\n\u001b[1;32m   5288\u001b[0m         \u001b[0;32mexcept\u001b[0m \u001b[0mAttributeError\u001b[0m\u001b[0;34m:\u001b[0m\u001b[0;34m\u001b[0m\u001b[0;34m\u001b[0m\u001b[0m\n",
            "\u001b[0;31mKeyboardInterrupt\u001b[0m: "
          ]
        }
      ]
    },
    {
      "cell_type": "code",
      "metadata": {
        "id": "GjZjKq7jRnh9"
      },
      "source": [
        "typ=\"log\"\n",
        "days=1\n",
        "dataset=get_data(\"cin\",typ)\n",
        "df=dataset[1:-days]\n",
        "test=dataset[-days:]\n",
        "pred1=poly_reg(df[['days','y']],typ,nxt=days)\n",
        "pred2=mul_linear_reg(df[['days','y']],typ,nxt=days)\n",
        "pred3=prophet_pred(df,typ,nxt=days)\n",
        "pred4=arima_pred(df,typ,orde=(4,1,1),nxt=days)\n",
        "pred5=sarima_pred(df,typ,days)\n",
        "pred=[pred1,pred2,pred3,pred4,pred5]\n",
        "MAPE(pred,typ,df,test)"
      ],
      "execution_count": null,
      "outputs": []
    },
    {
      "cell_type": "code",
      "metadata": {
        "id": "5HtnCrXaR5F7"
      },
      "source": [
        "pred3"
      ],
      "execution_count": null,
      "outputs": []
    },
    {
      "cell_type": "code",
      "metadata": {
        "id": "fS2TVh8bR703"
      },
      "source": [
        "pred3"
      ],
      "execution_count": null,
      "outputs": []
    },
    {
      "cell_type": "code",
      "metadata": {
        "id": "K7q6HqMNTxsz"
      },
      "source": [
        "from fbprophet import Prophet\n",
        "def prophet_ppp(dataset,typ,nxt=5):\n",
        "  \"\"\"\n",
        "  This uses facebook prophet to forecast the time series.\n",
        "  Ds and Y should be the only input\n",
        "  Ds is dates in str type like \"29 Apr 2020\" or the general format yyyy:dd:mm hh:mm:ss and y is the thing to be predicted\n",
        "  output is quite complex \n",
        "  the columns are - ds,trend,yhat_lower,yhat_upper,trend_lower,trend_upper,additive_terms,additive_terms_lower,additive_terms_upper,weekly,weekly_lower,weekly_upper,multiplicative_terms,multiplicative_terms_lower,multiplicative_terms_upper,yhat\n",
        "  \"\"\"\n",
        "  dataset['ds']=dataset['dates']\n",
        "  dataset['ds']=dataset['ds'].apply(lambda x :str(x))\n",
        "  dataset=dataset[['ds','y']]\n",
        "  m = Prophet()\n",
        "  m.fit(dataset)\n",
        "  future = m.make_future_dataframe(periods=nxt)\n",
        "  future.tail()\n",
        "  forecast = m.predict(future)\n",
        "  if typ=='log' or typ=='dlog':\n",
        "    return [np.exp(forecast['yhat'][-nxt:].tolist()),np.exp(forecast['yhat_lower'][-nxt:].tolist()),np.exp(forecast['yhat_upper'][-nxt:].tolist())]\n",
        "  else:\n",
        "    return forecast['yhat'][-nxt:].tolist()"
      ],
      "execution_count": null,
      "outputs": []
    },
    {
      "cell_type": "code",
      "metadata": {
        "id": "nDxHPmVMY7yr"
      },
      "source": [
        "pred3=prophet_ppp(df,typ,nxt=days)"
      ],
      "execution_count": null,
      "outputs": []
    },
    {
      "cell_type": "code",
      "metadata": {
        "id": "EoluYP5RZAwv"
      },
      "source": [
        "pred3"
      ],
      "execution_count": null,
      "outputs": []
    },
    {
      "cell_type": "code",
      "metadata": {
        "id": "oDkhfzXMZCzt"
      },
      "source": [
        "test"
      ],
      "execution_count": null,
      "outputs": []
    },
    {
      "cell_type": "code",
      "metadata": {
        "id": "0ZOOAlG3ZGbv"
      },
      "source": [
        "pred5"
      ],
      "execution_count": null,
      "outputs": []
    },
    {
      "cell_type": "code",
      "metadata": {
        "id": "N4PNOdDJcDfq",
        "colab": {
          "base_uri": "https://localhost:8080/",
          "height": 87
        },
        "outputId": "51415824-5612-4d47-c692-9719717ac31a"
      },
      "source": [
        "typ=\"cum\"\n",
        "days=5\n",
        "dataset=get_data(\"cmh\",typ)\n",
        "df=dataset\n",
        "#test=dataset[-days:]\n",
        "pred1=poly_reg(df[['days','y']],typ,nxt=days)\n",
        "pred2=mul_linear_reg(df[['days','y']],typ,nxt=days)\n",
        "pred3=prophet_pred(df,typ,nxt=days)\n",
        "pred4=arima_pred(df,typ,orde=(1,2,0),nxt=days)\n",
        "pred5=sarima_pred(df,typ,days)\n",
        "pred=[pred1,pred2,pred3,pred4,pred5]\n",
        "#MAPE(pred,typ,df,test)\n",
        "print(pred)"
      ],
      "execution_count": null,
      "outputs": [
        {
          "output_type": "stream",
          "text": [
            "0.9992262678640663\n",
            "0.8108293447807466\n",
            "[[68164.81178098754, 71586.49047221335, 75129.28995722605, 78795.45318934479, 82587.22312188857], [46484.94982454102, 47422.95434241489, 48360.95886028875, 49298.96337816262, 50236.96789603648], [65888.43126294072, 68336.17557027996, 70677.99857534675, 73092.78373417677, 75618.59936910993], [66435.84283918302, 69423.97927452218, 72449.94741822087, 75528.37601161218, 78653.84209890412], [66454.11319982079, 69402.54053743625, 72358.94275320647, 75363.8471511723, 78432.33582378698]]\n"
          ],
          "name": "stdout"
        }
      ]
    },
    {
      "cell_type": "code",
      "metadata": {
        "id": "fVxpvN2DeIWa",
        "colab": {
          "base_uri": "https://localhost:8080/",
          "height": 101
        },
        "outputId": "bf18c0e6-ad15-48c6-902e-0bbaa53a1457"
      },
      "source": [
        "for i in pred:\n",
        "  day_pred=[]\n",
        "  for j in range(len(i)-1,0,-1):\n",
        "    day_pred.append(i[j]-i[j-1])\n",
        "  day_pred.append(i[0]-int(dataset['y'][-1:].tolist()[0]))\n",
        "  day_pred.reverse()\n",
        "  print(day_pred)\n",
        "\n"
      ],
      "execution_count": null,
      "outputs": [
        {
          "output_type": "stream",
          "text": [
            "[4639.81178098754, 3421.6786912258103, 3542.7994850126997, 3666.1632321187353, 3791.769932543786]\n",
            "[-17040.05017545898, 938.0045178738656, 938.0045178738656, 938.0045178738656, 938.0045178738656]\n",
            "[2363.4312629407214, 2447.744307339235, 2341.8230050667917, 2414.7851588300255, 2525.815634933155]\n",
            "[2910.842839183024, 2988.1364353391546, 3025.9681436986866, 3078.4285933913197, 3125.466087291934]\n",
            "[2929.1131998207857, 2948.4273376154597, 2956.4022157702275, 3004.904397965831, 3068.4886726146797]\n"
          ],
          "name": "stdout"
        }
      ]
    },
    {
      "cell_type": "code",
      "metadata": {
        "id": "T3vJXGazfgyn"
      },
      "source": [
        "dataset['y'][-1:]"
      ],
      "execution_count": null,
      "outputs": []
    },
    {
      "cell_type": "code",
      "metadata": {
        "id": "orP4qLmigPkZ"
      },
      "source": [
        "pred4"
      ],
      "execution_count": null,
      "outputs": []
    },
    {
      "cell_type": "code",
      "metadata": {
        "id": "oTsOQg7dhQh_"
      },
      "source": [
        "# For cin\n",
        "# *For norm\n",
        "# For 10\n",
        "# \tProphet 14.211311861920814\n",
        "# \tARIMA 6.455411730776875\n",
        "# \tSarima7.73537502252762\n",
        "# For 5\n",
        "# \tProphet 6.608819448445085\n",
        "# \tARIMA 16.875087289499888\n",
        "# \tSarima4.64338011980983\n",
        "# For 3\n",
        "# \tProphet 10.028611225940853\n",
        "# \tARIMA 16.845108909515933\n",
        "# \tSarima16.47025029278184\n",
        "# For 1\n",
        "# \tProphet 7.080467488698806\n",
        "# \tARIMA 4.3870289373711815\n",
        "# \tSarima0.633384020789773\n",
        "# *For log\n",
        "# For 10\n",
        "# \tProphet 1.9557414102081545\n",
        "# \tARIMA 30.251077260557953\n",
        "# \tSarima1.0977024633855132\n",
        "# For 5\n",
        "# \tProphet 2.759337582537548\n",
        "# \tARIMA 9.785484937317616\n",
        "# \tSarima4.902184042417526\n",
        "# For 3\n",
        "# \tProphet 3.091872217409708\n",
        "# \tARIMA 4.0708524274918165\n",
        "# \tSarima1.6899287562474503\n",
        "# For 1\n",
        "# \tProphet 2.274072632643288\n",
        "# \tARIMA 0.6123966943881647\n",
        "# \tSarima0.4153190330632342\n",
        "# *For cum\n",
        "# For 10\n",
        "# \tProphet 9.74628296559585\n",
        "# \tARIMA 2.180049835641202\n",
        "# \tSarima2.316326187190143\n",
        "# For 5\n",
        "# \tProphet 4.059108967383212\n",
        "# \tARIMA 0.43184900327814635\n",
        "# \tSarima0.39943376342103154\n",
        "# For 3\n",
        "# \tProphet 3.1120527043546082\n",
        "# \tARIMA 1.2097739829614402\n",
        "# \tSarima0.9250165171574566\n",
        "# For 1\n",
        "# \tProphet 2.188130098006962\n",
        "# \tARIMA 0.23454551299896867\n",
        "# \tSarima0.06107261272978521\n",
        "# *For dlog\n",
        "# For 10\n",
        "# \tProphet 9.962878748907185\n",
        "# \tARIMA 6.816323775683529\n",
        "# \tSarima7.451670113826795\n",
        "# For 5\n",
        "# \tProphet 12.538715826501214\n",
        "# \tARIMA 19.18343699902174\n",
        "# \tSarima7.783639207393611\n",
        "# For 3\n",
        "# \tProphet 7.745716770289793\n",
        "# \tARIMA 18.376408805645422\n",
        "# \tSarima6.338589661399137\n",
        "# For 1\n",
        "# \tProphet 8.049826013476096\n",
        "# \tARIMA 5.3166991388168965\n",
        "# \tSarima0.7253620351095512\n",
        "# ---------------------------------------------\n",
        "# For cmh\n",
        "# *For norm\n",
        "# For 10\n",
        "# \tProphet 13.555089418414525\n",
        "# \tARIMA 19.053973093743494\n",
        "# \tSarima19.497722334077302\n",
        "# For 5\n",
        "# \tProphet 18.977967170152553\n",
        "# \tARIMA 21.804315033984594\n",
        "# \tSarima32.84846267373347\n",
        "# For 3\n",
        "# \tProphet 3.905773111605481\n",
        "# \tARIMA 28.991460665132596\n",
        "# \tSarima28.89952821539242\n",
        "# For 1\n",
        "# \tProphet 5.001846127776015\n",
        "# \tARIMA 1.414403530816189\n",
        "# \tSarima4.213706478359977\n",
        "# *For log\n",
        "# For 10\n",
        "# \tProphet 3.9013985991137248\n",
        "# \tARIMA 15.042700943043053\n",
        "# \tSarima2.5888569829589625\n",
        "# For 5\n",
        "# \tProphet 7.642526842211661\n",
        "# \tARIMA 2.39990660304633\n",
        "# \tSarima3.0447292200649456\n",
        "# For 3\n",
        "# \tProphet 7.730777190483411\n",
        "# \tARIMA 4.32854524121361\n",
        "# \tSarima3.118844578968249\n",
        "# For 1\n",
        "# \tProphet 5.5615962235751155\n",
        "# \tARIMA 1.4173825807798741\n",
        "# \tSarima0.6748966212713673\n",
        "# *For cum\n",
        "# For 10\n",
        "# \tProphet 11.434003463740659\n",
        "# \tARIMA 1.8724538248087295\n",
        "# \tSarima1.8727487770623177\n",
        "# For 5\n",
        "# \tProphet 2.2666263303691796\n",
        "# \tARIMA 2.3655966691166714\n",
        "# \tSarima3.9980402328431572\n",
        "# For 3\n",
        "# \tProphet 1.0672841398936554\n",
        "# \tARIMA 1.4558649209534547\n",
        "# \tSarima1.2509765364473588\n",
        "# For 1\n",
        "# \tProphet 0.6961538216039539\n",
        "# \tARIMA 0.3568154068713929\n",
        "# \tSarima0.40875531298047746\n",
        "# *For dlog\n",
        "# For 10\n",
        "# \tProphet 34.59554670154831\n",
        "# \tARIMA 22.70707107098436\n",
        "# \tSarima24.178046529074926\n",
        "# For 5\n",
        "# \tProphet 43.83448542580484\n",
        "# \tARIMA 27.71424899315212\n",
        "# \tSarima27.78305377243175\n",
        "# For 3\n",
        "# \tProphet 36.32575445413715\n",
        "# \tARIMA 34.12170352496714\n",
        "# \tSarima12.843131929741846\n",
        "# For 1\n",
        "# \tProphet 34.72029074113514\n",
        "# \tARIMA 2.2745531390021325\n",
        "# \tSarima9.823605146236725\n",
        "# ---------------------------------------------\n",
        "# For din\n",
        "# *For norm\n",
        "# \tFor 10\n",
        "# \t\tProphet 13.340888120725356\n",
        "# \t\tARIMA 31.269546674316103\n",
        "# \t\tSarima8.357558516695024\n",
        "# \tFor 5\n",
        "# \t\tProphet 19.466033805214984\n",
        "# \t\tARIMA 28.30302893379776\n",
        "# \t\tSarima17.389495116512336\n",
        "# \tFor 3\n",
        "# \t\tProphet 21.695377747455083\n",
        "# \t\tARIMA 24.04699851897188\n",
        "# \t\tSarima12.433587867663917\n",
        "# \tFor 1\n",
        "# \t\tProphet 11.4438702277318\n",
        "# \t\tARIMA 50.56929801532569\n",
        "# \t\tSarima16.932926464491473\n",
        "# *For log\n",
        "# \tFor 10\n",
        "# \t\tProphet 8.292937746633699\n",
        "# \t\tARIMA 27.37138788541219\n",
        "# \t\tSarima8.550503768495947\n",
        "# \tFor 5\n",
        "# \t\tProphet 2.1354529949638206\n",
        "# \t\tARIMA 11.496889490832292\n",
        "# \t\tSarima1.8763130959882506\n",
        "# \tFor 3\n",
        "# \t\tProphet 1.5422851831199695\n",
        "# \t\tARIMA 4.97710438120072\n",
        "# \t\tSarima0.44907739207127434\n",
        "# \tFor 1\n",
        "# \t\tProphet 1.409462770304294\n",
        "# \t\tARIMA 0.2727987649238742\n",
        "# \t\tSarima1.2175876627370168\n",
        "# *For cum\n",
        "# \tFor 10\n",
        "# \t\tProphet 5.758047122646664\n",
        "# \t\tARIMA 1.584780614250918\n",
        "# \t\tSarima1.0978346185622088\n",
        "# \tFor 5\n",
        "# \t\tProphet 3.7230624328696615\n",
        "# \t\tARIMA 2.242088443692892\n",
        "# \t\tSarima2.186245394181826\n",
        "# \tFor 3\n",
        "# \t\tProphet 3.976394778206909\n",
        "# \t\tARIMA 0.7998275690855968\n",
        "# \t\tSarima1.414126956421537\n",
        "# \tFor 1\n",
        "# \t\tProphet 3.4817011211409183\n",
        "# \t\tARIMA 0.7813158489847029\n",
        "# \t\tSarima0.49721554884063474\n",
        "# *For dlog\n",
        "# \tFor 10\n",
        "# \t\tProphet 22.733831433915025\n",
        "# \t\tARIMA 39.140736618655595\n",
        "# \t\tSarima12.921294445397885\n",
        "# \tFor 5\n",
        "# \t\tProphet 14.397411090702585\n",
        "# \t\tARIMA 31.081706098289914\n",
        "# \t\tSarima21.583660673805348\n",
        "# \tFor 3\n",
        "# \t\tProphet 10.478536253079865\n",
        "# \t\tARIMA 26.415793260170776\n",
        "# \t\tSarima12.74484248841589\n",
        "# \tFor 1\n",
        "# \t\tProphet 0.7274533510075576\n",
        "# \t\tARIMA 41.55245873822123\n",
        "# \t\tSarima3.7593985111587314\n",
        "# ---------------------------------------------\n",
        "# For dmh\n",
        "# *For norm\n",
        "# \tFor 10\n",
        "# \t\tProphet 17.44788746005013\n",
        "# \t\tARIMA 22.04883086856639\n",
        "# \t\tSarima17.180171759232586\n",
        "# \tFor 5\n",
        "# \t\tProphet 29.045864871556184\n",
        "# \t\tARIMA 39.297380740087775\n",
        "# \t\tSarima40.30528163286402\n",
        "# \tFor 3\n",
        "# \t\tProphet 21.756256868917756\n",
        "# \t\tARIMA 51.11344129756265\n",
        "# \t\tSarima83.23772713657188\n",
        "# \tFor 1\n",
        "# \t\tProphet 13.403315998939657\n",
        "# \t\tARIMA 18.2437190932725\n",
        "# \t\tSarima20.589123296388284\n",
        "# *For log\n",
        "# \tFor 10\n",
        "# \t\tProphet 17.024608037925706\n",
        "# \t\tARIMA 32.223207589694034\n",
        "# \t\tSarima5.876013491647887\n",
        "# \tFor 5\n",
        "# \t\tProphet 6.296290962923414\n",
        "# \t\tARIMA 17.497071129632225\n",
        "# \t\tSarima6.9784277669289905\n",
        "# \tFor 3\n",
        "# \t\tProphet 7.478822338300508\n",
        "# \t\tARIMA 5.085248204544691\n",
        "# \t\tSarima1.9444471446679306\n",
        "# \tFor 1\n",
        "# \t\tProphet 2.2049033558303934\n",
        "# \t\tARIMA 1.4378835384178872\n",
        "# \t\tSarima1.9971759055552096\n",
        "# *For cum\n",
        "# \tFor 10\n",
        "# \t\tProphet 6.014669116000526\n",
        "# \t\tARIMA 1.7104534664502071\n",
        "# \t\tSarima1.3103678786028858\n",
        "# \tFor 5\n",
        "# \t\tProphet 5.0754566680771465\n",
        "# \t\tARIMA 5.493623268330308\n",
        "# \t\tSarima5.608817383910982\n",
        "# \tFor 3\n",
        "# \t\tProphet 5.285203317146144\n",
        "# \t\tARIMA 0.8281403122417479\n",
        "# \t\tSarima0.40043151024495155\n",
        "# \tFor 1\n",
        "# \t\tProphet 4.618712166309708\n",
        "# \t\tARIMA 0.29206010390196746\n",
        "# \t\tSarima0.8801949329657208\n",
        "# *For dlog\n",
        "# \tFor 10\n",
        "# \t\tProphet 33.55905768858996\n",
        "# \t\tARIMA 33.621353655598575\n",
        "# \t\tSarima33.12442077745902\n",
        "# \tFor 5\n",
        "# \t\tProphet 19.570501454118478\n",
        "# \t\tARIMA 48.629931615654634\n",
        "# \t\tSarima19.290672589779003\n",
        "# \tFor 3\n",
        "# \t\tProphet 18.458885325133817\n",
        "# \t\tARIMA 80.87041683027574\n",
        "# \t\tSarima240.04586524779643\n",
        "# \tFor 1\n",
        "# \t\tProphet 16.918618093489727\n",
        "# \t\tARIMA 5.842767005224523\n",
        "# \t\tSarima15.461561334149515\n",
        "# ---------------------------------------------\n",
        "# For gmale\n",
        "# *For norm\n",
        "# \tFor 10\n",
        "# \t\tProphet 21.619626982624546\n",
        "# \t\tARIMA 28.50762363694243\n",
        "# \t\tSarima15.83430254541995\n",
        "# \tFor 5\n",
        "# \t\tProphet 11.509799989797488\n",
        "# \t\tARIMA 46.91867469180606\n",
        "# \t\tSarima40.00940830246323\n",
        "# \tFor 3\n",
        "# \t\tProphet 4.368342391945659\n",
        "# \t\tARIMA 65.15593977630822\n",
        "# \t\tSarima13.26106795332227\n",
        "# \tFor 1\n",
        "# \t\tProphet 1.6220867679683078\n",
        "# \t\tARIMA 12.100504862817841\n",
        "# \t\tSarima0.6399406348211917\n",
        "# *For log\n",
        "# \tFor 10\n",
        "# \t\tProphet 2.441817813815972\n",
        "# \t\tARIMA 1.9671752383943617\n",
        "# \t\tSarima2.7738471168915693\n",
        "# \tFor 5\n",
        "# \t\tProphet 4.930640535237928\n",
        "# \t\tARIMA 4.102050699191043\n",
        "# \t\tSarima3.909976142779594\n",
        "# \tFor 3\n",
        "# \t\tProphet 4.876527848386679\n",
        "# \t\tARIMA 0.8366305884284926\n",
        "# \t\tSarima2.2404087747035564\n",
        "# \tFor 1\n",
        "# \t\tProphet 3.6958968569634836\n",
        "# \t\tARIMA 0.5498880541493134\n",
        "# \t\tSarima0.8959249298741966\n",
        "# *For cum\n",
        "# \tFor 10\n",
        "# \t\tProphet 11.703409683580954\n",
        "# \t\tARIMA 2.618858083973689\n",
        "# \t\tSarima1.0656552814388944\n",
        "# \tFor 5\n",
        "# \t\tProphet 4.162647006842513\n",
        "# \t\tARIMA 3.7311310646810747\n",
        "# \t\tSarima4.4583719226234075\n",
        "# \tFor 3\n",
        "# \t\tProphet 1.8358419245889797\n",
        "# \t\tARIMA 0.8022751118282162\n",
        "# \t\tSarima0.5431898384408989\n",
        "# \tFor 1\n",
        "# \t\tProphet 0.5518932063309953\n",
        "# \t\tARIMA 0.20325724007222765\n",
        "# \t\tSarima0.06412264186891667\n",
        "# *For dlog\n",
        "# \tFor 10\n",
        "# \t\tProphet 42.14924188860788\n",
        "# \t\tARIMA 37.15789292737892\n",
        "# \t\tSarima12.197566999842044\n",
        "# \tFor 5\n",
        "# \t\tProphet 65.57329029136419\n",
        "# \t\tARIMA 33.00670423633478\n",
        "# \t\tSarima36.496387805603554\n",
        "# \tFor 3\n",
        "# \t\tProphet 33.97821783751481\n",
        "# \t\tARIMA 49.040247519203064\n",
        "# \t\tSarima10.957905538110394\n",
        "# \tFor 1\n",
        "# \t\tProphet 24.82253496632951\n",
        "# \t\tARIMA 13.433144079710624\n",
        "# \t\tSarima1.8698809355280293\n",
        "# ---------------------------------------------\n",
        "# For gfemale\n",
        "# *For norm\n",
        "# \tFor 10\n",
        "# \t\tProphet 23.13513481630467\n",
        "# \t\tARIMA 70.4610828813742\n",
        "# \t\tSarima14.894572961431285\n",
        "# \tFor 5\n",
        "# \t\tProphet 8.77072207749178\n",
        "# \t\tARIMA 31.500125804885016\n",
        "# \t\tSarima36.10611610616861\n",
        "# \tFor 3\n",
        "# \t\tProphet 8.765565340107795\n",
        "# \t\tARIMA 31.610137456127884\n",
        "# \t\tSarima28.404591254636774\n",
        "# \tFor 1\n",
        "# \t\tProphet 4.118014773134944\n",
        "# \t\tARIMA 5.324604492115637\n",
        "# \t\tSarima1.4994178664872566\n",
        "# *For log\n",
        "# \tFor 10\n",
        "# \t\tProphet 2.426055798817884\n",
        "# \t\tARIMA 2.475713573355741\n",
        "# \t\tSarima3.859161725292881\n",
        "# \tFor 5\n",
        "# \t\tProphet 4.540887044931013\n",
        "# \t\tARIMA 4.214314367999877\n",
        "# \t\tSarima2.3389841902769355\n",
        "# \tFor 3\n",
        "# \t\tProphet 4.756600971154445\n",
        "# \t\tARIMA 0.3181533524030257\n",
        "# \t\tSarima2.1829526746601093\n",
        "# \tFor 1\n",
        "# \t\tProphet 3.099867034345066\n",
        "# \t\tARIMA 0.627235709647654\n",
        "# \t\tSarima0.4366410875695115\n",
        "# *For cum\n",
        "# \tFor 10\n",
        "# \t\tProphet 10.807389274191673\n",
        "# \t\tARIMA 3.735621032837546\n",
        "# \t\tSarima2.081996891307723\n",
        "# \tFor 5\n",
        "# \t\tProphet 4.096340030414804\n",
        "# \t\tARIMA 3.41096643401153\n",
        "# \t\tSarima4.31301193700603\n",
        "# \tFor 3\n",
        "# \t\tProphet 1.717698412891153\n",
        "# \t\tARIMA 0.2856083880655292\n",
        "# \t\tSarima1.902168190067383\n",
        "# \tFor 1\n",
        "# \t\tProphet 0.5146278080834641\n",
        "# \t\tARIMA 0.4383554174156837\n",
        "# \t\tSarima0.18533729638758978\n",
        "# *For dlog\n",
        "# \tFor 10\n",
        "# \t\tProphet 33.595821317063866\n",
        "# \t\tARIMA 47.28855709104996\n",
        "# \t\tSarima12.428491269564523\n",
        "# \tFor 5\n",
        "# \t\tProphet 48.558088100371904\n",
        "# \t\tARIMA 32.219045477394516\n",
        "# \t\tSarima28.285263366043505\n",
        "# \tFor 3\n",
        "# \t\tProphet 30.92906949216828\n",
        "# \t\tARIMA 25.411289238255264\n",
        "# \t\tSarima17.28551770055576\n",
        "# \tFor 1\n",
        "# \t\tProphet 9.587414736976923\n",
        "# \t\tARIMA 8.247662554594362\n",
        "# \t\tSarima5.537518539860288\n",
        "# ---------------------------------------------"
      ],
      "execution_count": null,
      "outputs": []
    },
    {
      "cell_type": "code",
      "metadata": {
        "id": "SJmSkAf93qeU",
        "colab": {
          "base_uri": "https://localhost:8080/",
          "height": 375
        },
        "outputId": "964a9557-bbcc-4db1-a1b2-c6e2f2c3bd44"
      },
      "source": [
        "typ=\"cin\"\n",
        "typ='log'\n",
        "days=10\n",
        "dataset=get_data(\"cmh\",typ)\n",
        "df=dataset\n",
        "pred3=prophet_pred(df,typ,nxt=days)\n",
        "pred4=arima_pred(df,typ,orde=(1,2,0),nxt=days)\n",
        "pred5=sarima_pred(df,typ,days)\n",
        "pred=[pred3,pred4,pred5]\n",
        "#MAPE(pred,typ,df,test)\n",
        "print(pred)"
      ],
      "execution_count": null,
      "outputs": [
        {
          "output_type": "stream",
          "text": [
            "[             yhat    yhat_lower     yhat_upper\n",
            "0       93.985411     90.587572      97.491448\n",
            "1      131.007425    126.114875     135.464833\n",
            "2      194.756078    188.607819     201.790788\n",
            "3      276.496330    266.713588     286.424054\n",
            "4      402.200447    388.238955     417.107879\n",
            "..            ...           ...            ...\n",
            "66   92036.116062  83513.274529  103000.743127\n",
            "67   98083.807941  86270.627009  114353.431022\n",
            "68  104515.737985  88766.935718  125213.817549\n",
            "69  110293.045926  90807.999648  137599.618810\n",
            "70  118471.544427  94852.985583  151583.298167\n",
            "\n",
            "[71 rows x 3 columns], [65796.26258575064, 68252.21368838561, 69976.98838512533, 71815.27633080876, 72883.22743580451, 74002.18739458684, 74339.33166392677, 74679.17962348295, 74255.5242434649, 73804.26216838691], array([66011.7496577 , 68413.78309477, 70396.26370867, 72540.11452995,\n",
            "       74593.37146559, 76827.91123353, 78830.16854089, 80701.91509954,\n",
            "       82206.3173434 , 83571.64890302])]\n"
          ],
          "name": "stdout"
        },
        {
          "output_type": "stream",
          "text": [
            "/usr/local/lib/python3.6/dist-packages/statsmodels/base/model.py:512: ConvergenceWarning:\n",
            "\n",
            "Maximum Likelihood optimization failed to converge. Check mle_retvals\n",
            "\n"
          ],
          "name": "stderr"
        }
      ]
    },
    {
      "cell_type": "code",
      "metadata": {
        "id": "vhloRamS3_Hw",
        "colab": {
          "base_uri": "https://localhost:8080/",
          "height": 341
        },
        "outputId": "692cf9e8-23fd-4c01-a1fd-51749f2fff8e"
      },
      "source": [
        "y=\"cin\"\n",
        "typ='cum'\n",
        "days=10\n",
        "dataset=get_data(y,typ)\n",
        "df=dataset\n",
        "pred3=prophet_pred(df,typ,nxt=days)\n",
        "pred4=arima_pred(df,typ,orde=(1,2,0),nxt=days)\n",
        "pred5=sarima_pred(df,typ,days)\n",
        "pred=[pred3,pred4,pred5]\n",
        "#MAPE(pred,typ,df,test)\n",
        "print(pred)"
      ],
      "execution_count": null,
      "outputs": [
        {
          "output_type": "stream",
          "text": [
            "[             yhat     yhat_lower     yhat_upper\n",
            "0        3.013112    -756.278504     810.002619\n",
            "1      390.637284    -472.891686    1228.583522\n",
            "2     1058.088209     202.441950    1937.064214\n",
            "3     1848.142089     957.695886    2676.128347\n",
            "4     2933.100701    2116.302284    3840.126204\n",
            "..            ...            ...            ...\n",
            "66  217177.821768  215074.448165  219533.364358\n",
            "67  224250.960476  221741.981343  227187.285997\n",
            "68  230663.192323  227479.602741  234259.585175\n",
            "69  237001.311658  233118.903427  241295.840095\n",
            "70  243352.243406  238720.271848  248437.870790\n",
            "\n",
            "[71 rows x 3 columns], [189347.29756602863, 197929.43209768733, 206632.6845550675, 215473.39969257495, 224445.85926349252, 233552.063808465, 242791.31343413884, 252163.85299967628, 261669.59684058424, 271308.57492676587], [189388.76582941864, 197849.01414111047, 206213.66333814219, 214893.5035044246, 223805.93200690328, 233149.9285207966, 242777.95930215955, 252678.8371454293, 262653.7034106489, 272853.131344409]]\n"
          ],
          "name": "stdout"
        },
        {
          "output_type": "stream",
          "text": [
            "/usr/local/lib/python3.6/dist-packages/statsmodels/base/model.py:512: ConvergenceWarning:\n",
            "\n",
            "Maximum Likelihood optimization failed to converge. Check mle_retvals\n",
            "\n"
          ],
          "name": "stderr"
        }
      ]
    },
    {
      "cell_type": "code",
      "metadata": {
        "id": "0OjTTOGK4M20"
      },
      "source": [
        "temp=pred[0]"
      ],
      "execution_count": null,
      "outputs": []
    },
    {
      "cell_type": "code",
      "metadata": {
        "id": "Xcn2JXam5NaN",
        "colab": {
          "base_uri": "https://localhost:8080/",
          "height": 264
        },
        "outputId": "8420fde7-b335-4e74-9e66-e166c14a5894"
      },
      "source": [
        "import matplotlib.pyplot as plt\n",
        "plt.plot(temp[-30:])\n",
        "plt.show()"
      ],
      "execution_count": null,
      "outputs": [
        {
          "output_type": "display_data",
          "data": {
            "image/png": "[encoded data removed]",
            "text/plain": [
              "<Figure size 432x288 with 1 Axes>"
            ]
          },
          "metadata": {
            "tags": [],
            "needs_background": "light"
          }
        }
      ]
    },
    {
      "cell_type": "code",
      "metadata": {
        "id": "_VaQWtNS5Rfx"
      },
      "source": [
        "from fbprophet import Prophet\n",
        "def prophet_pred(dataset,typ,nxt=5):\n",
        "  \"\"\"\n",
        "  This uses facebook prophet to forecast the time series.\n",
        "  Ds and Y should be the only input\n",
        "  Ds is dates in str type like \"29 Apr 2020\" or the general format yyyy:dd:mm hh:mm:ss and y is the thing to be predicted\n",
        "  output is quite complex \n",
        "  the columns are - ds,trend,yhat_lower,yhat_upper,trend_lower,trend_upper,additive_terms,additive_terms_lower,additive_terms_upper,weekly,weekly_lower,weekly_upper,multiplicative_terms,multiplicative_terms_lower,multiplicative_terms_upper,yhat\n",
        "  \"\"\"\n",
        "  dataset['ds']=dataset['dates']\n",
        "  dataset['ds']=dataset['ds'].apply(lambda x :str(x))\n",
        "  dataset=dataset[['ds','y']]\n",
        "  m = Prophet(daily_seasonality=True,yearly_seasonality=False)\n",
        "  m.fit(dataset)\n",
        "  future = m.make_future_dataframe(periods=nxt)\n",
        "  future.tail()\n",
        "  forecast = m.predict(future)\n",
        "  forecast=forecast[['yhat','yhat_lower','yhat_upper']]\n",
        "  if typ=='log' or typ=='dlog':\n",
        "    forecast['yhat']=forecast['yhat'].apply(lambda x : np.exp(x))\n",
        "    forecast['yhat_lower']=forecast['yhat_lower'].apply(lambda x : np.exp(x))\n",
        "    forecast['yhat_upper']=forecast['yhat_upper'].apply(lambda x : np.exp(x))\n",
        "  return forecast\n",
        "  \n",
        "\n"
      ],
      "execution_count": null,
      "outputs": []
    },
    {
      "cell_type": "code",
      "metadata": {
        "id": "dhc7yvk0Rh9B"
      },
      "source": [
        ""
      ],
      "execution_count": null,
      "outputs": []
    }
  ]
}