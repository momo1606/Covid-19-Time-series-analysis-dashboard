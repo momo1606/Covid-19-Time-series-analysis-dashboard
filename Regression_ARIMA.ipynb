{
  "nbformat": 4,
  "nbformat_minor": 0,
  "metadata": {
    "colab": {
      "name": "Regression_ARIMA.ipynb",
      "provenance": [],
      "collapsed_sections": [],
      "authorship_tag": "ABX9TyOyBXDFSm8ik9PTCNAXa1CD",
      "include_colab_link": true
    },
    "kernelspec": {
      "name": "python3",
      "display_name": "Python 3"
    }
  },
  "cells": [
    {
      "cell_type": "markdown",
      "metadata": {
        "id": "view-in-github",
        "colab_type": "text"
      },
      "source": [
        "<a href=\"https://colab.research.google.com/github/momo1606/Covid-19-Time-series-prediction-dashboard/blob/master/Regression_ARIMA.ipynb\" target=\"_parent\"><img src=\"https://colab.research.google.com/assets/colab-badge.svg\" alt=\"Open In Colab\"/></a>"
      ]
    },
    {
      "cell_type": "code",
      "metadata": {
        "id": "lUCJIFd19iGQ"
      },
      "source": [
        "import numpy as np\n",
        "import pandas as pd\n",
        "from matplotlib import pyplot as plt\n",
        "from statsmodels.tsa.stattools import adfuller\n",
        "from statsmodels.tsa.seasonal import seasonal_decompose\n",
        "from statsmodels.tsa.arima_model import ARIMA\n",
        "from pandas.plotting import register_matplotlib_converters\n",
        "register_matplotlib_converters()"
      ],
      "execution_count": null,
      "outputs": []
    },
    {
      "cell_type": "code",
      "metadata": {
        "id": "F36gXl4493nc",
        "colab": {
          "base_uri": "https://localhost:8080/",
          "height": 201
        },
        "outputId": "468b2f33-026d-4c6a-fd68-bba4414eda1e"
      },
      "source": [
        "#Edit for a specific task delete later\n",
        "cases_mh=[100,15,88,67,148,110,121,149,117,229,210,187,235,344,350,226,288,119,328,553,472,553,431,778,394,811,440,522,728,597] #Cases daily MH\n",
        "cases_in=[236,404,701,598,553,603,417,652,540,678,1035,909,807,1206,1073,938,1006,992,1334,1554,1345,1384,1395,1684,1432,1990,1396,1543,1897,1718] #Cases India\n",
        "deaths_in=[6,7,18,15,10,24,12,28,17,33,40,34,34,37,38,37,23,43,27,36,47,50,41,37,57,49,48,62,73,67]\n",
        "deaths_mh=[2,1,7,6,6,13,7,12,8,25,13,17,21,12,18,9,7,7,10,12,9,19,18,14,18,22,19,27,31,32]\n",
        "gen_male=[144,56,5,60,43,94,67,65,88,96,124,116,117,114,198,213,142,184,79,176,352,287,363,257,454,248,514,250,311,436]\n",
        "gen_female=[86,36,8,28,24,51,46,52,64,39,98,83,65,112,154,137,90,102,39,152,200,179,189,174,324,142,297,190,186,293]\n",
        "dates=pd.date_range(start='4/1/2020', end='4/30/2020')\n",
        "days=[i for i in range(len(dates)) ]\n",
        "y_list=cases_in\n",
        "dataset=pd.DataFrame({'ds':dates,'y':y_list})\n",
        "dataset['y']=dataset['y'].cumsum()\n",
        "#dataset['y']=dataset['y'].apply(lambda x :np.log(x))\n",
        "#dataset['ds']=dataset['ds'].apply(lambda x :str(x))\n",
        "dataset.head()"
      ],
      "execution_count": null,
      "outputs": [
        {
          "output_type": "execute_result",
          "data": {
            "text/html": [
              "<div>\n",
              "<style scoped>\n",
              "    .dataframe tbody tr th:only-of-type {\n",
              "        vertical-align: middle;\n",
              "    }\n",
              "\n",
              "    .dataframe tbody tr th {\n",
              "        vertical-align: top;\n",
              "    }\n",
              "\n",
              "    .dataframe thead th {\n",
              "        text-align: right;\n",
              "    }\n",
              "</style>\n",
              "<table border=\"1\" class=\"dataframe\">\n",
              "  <thead>\n",
              "    <tr style=\"text-align: right;\">\n",
              "      <th></th>\n",
              "      <th>ds</th>\n",
              "      <th>y</th>\n",
              "    </tr>\n",
              "  </thead>\n",
              "  <tbody>\n",
              "    <tr>\n",
              "      <th>0</th>\n",
              "      <td>2020-04-01</td>\n",
              "      <td>236</td>\n",
              "    </tr>\n",
              "    <tr>\n",
              "      <th>1</th>\n",
              "      <td>2020-04-02</td>\n",
              "      <td>640</td>\n",
              "    </tr>\n",
              "    <tr>\n",
              "      <th>2</th>\n",
              "      <td>2020-04-03</td>\n",
              "      <td>1341</td>\n",
              "    </tr>\n",
              "    <tr>\n",
              "      <th>3</th>\n",
              "      <td>2020-04-04</td>\n",
              "      <td>1939</td>\n",
              "    </tr>\n",
              "    <tr>\n",
              "      <th>4</th>\n",
              "      <td>2020-04-05</td>\n",
              "      <td>2492</td>\n",
              "    </tr>\n",
              "  </tbody>\n",
              "</table>\n",
              "</div>"
            ],
            "text/plain": [
              "          ds     y\n",
              "0 2020-04-01   236\n",
              "1 2020-04-02   640\n",
              "2 2020-04-03  1341\n",
              "3 2020-04-04  1939\n",
              "4 2020-04-05  2492"
            ]
          },
          "metadata": {
            "tags": []
          },
          "execution_count": 155
        }
      ]
    },
    {
      "cell_type": "code",
      "metadata": {
        "id": "pvQVesRMOcMm",
        "colab": {
          "base_uri": "https://localhost:8080/",
          "height": 281
        },
        "outputId": "8c85bd0a-1d7c-47ee-87f3-400394b1ebb5"
      },
      "source": [
        "df_log = np.log(dataset['y'])\n",
        "plt.plot(df_log)"
      ],
      "execution_count": null,
      "outputs": [
        {
          "output_type": "execute_result",
          "data": {
            "text/plain": [
              "[<matplotlib.lines.Line2D at 0x7f554a78b2b0>]"
            ]
          },
          "metadata": {
            "tags": []
          },
          "execution_count": 143
        },
        {
          "output_type": "display_data",
          "data": {
            "image/png": "[encoded data removed]",
            "text/plain": [
              "<Figure size 432x288 with 1 Axes>"
            ]
          },
          "metadata": {
            "tags": [],
            "needs_background": "light"
          }
        }
      ]
    },
    {
      "cell_type": "markdown",
      "metadata": {
        "id": "2ipG-oJqgMU0"
      },
      "source": [
        "# ARMA Graph for prediction"
      ]
    },
    {
      "cell_type": "markdown",
      "metadata": {
        "id": "NQS0Xv1ogutp"
      },
      "source": [
        "#ARIMA"
      ]
    },
    {
      "cell_type": "code",
      "metadata": {
        "id": "Uj-b2A-ogxna",
        "colab": {
          "base_uri": "https://localhost:8080/",
          "height": 118
        },
        "outputId": "a9d10030-f0a7-4997-b5ce-97076f06a8d5"
      },
      "source": [
        "# ARIMA example\n",
        "from statsmodels.tsa.arima_model import ARIMA\n",
        "from random import random\n",
        "# contrived dataset\n",
        "data = df_log.tolist()\n",
        "# fit model\n",
        "model = ARIMA(data, order=(2,1,1))\n",
        "model_fit = model.fit(disp=False)\n",
        "# make prediction\n",
        "yhat = model_fit.predict(len(data), len(data)+30, typ='levels')\n",
        "print(yhat)"
      ],
      "execution_count": null,
      "outputs": [
        {
          "output_type": "stream",
          "text": [
            "[5.81755185 5.84956949 5.91879854 6.00586745 6.08898374 6.16925732\n",
            " 6.24987893 6.33093215 6.41196847 6.49294199 6.57391315 6.65489308\n",
            " 6.73587402 6.81685378 6.89783331 6.97881299 7.05979272 7.14077242\n",
            " 7.22175212 7.30273182 7.38371153 7.46469123 7.54567093 7.62665063\n",
            " 7.70763033 7.78861003 7.86958974 7.95056944 8.03154914 8.11252884\n",
            " 8.19350854]\n"
          ],
          "name": "stdout"
        }
      ]
    },
    {
      "cell_type": "code",
      "metadata": {
        "id": "tS5Nmx03hGCF",
        "colab": {
          "base_uri": "https://localhost:8080/",
          "height": 281
        },
        "outputId": "ee955f5c-830a-443f-bb07-13ef390f06bb"
      },
      "source": [
        "data=np.append(data,yhat)\n",
        "plt.plot(data)"
      ],
      "execution_count": null,
      "outputs": [
        {
          "output_type": "execute_result",
          "data": {
            "text/plain": [
              "[<matplotlib.lines.Line2D at 0x7f554a6d05f8>]"
            ]
          },
          "metadata": {
            "tags": []
          },
          "execution_count": 148
        },
        {
          "output_type": "display_data",
          "data": {
            "image/png": "[encoded data removed]",
            "text/plain": [
              "<Figure size 432x288 with 1 Axes>"
            ]
          },
          "metadata": {
            "tags": [],
            "needs_background": "light"
          }
        }
      ]
    },
    {
      "cell_type": "code",
      "metadata": {
        "id": "HnsBIbUTPknw",
        "colab": {
          "base_uri": "https://localhost:8080/",
          "height": 152
        },
        "outputId": "0b667062-d7ac-428b-bba2-f645e9855a75"
      },
      "source": [
        "np.exp(yhat)"
      ],
      "execution_count": null,
      "outputs": [
        {
          "output_type": "execute_result",
          "data": {
            "text/plain": [
              "array([ 336.14810434,  347.08492512,  371.96454304,  405.80285009,\n",
              "        440.97303975,  477.83109932,  517.95011218,  561.67992127,\n",
              "        609.09148252,  660.46358232,  716.16683321,  776.57489032,\n",
              "        842.07915736,  913.10765101,  990.12709423, 1073.64318838,\n",
              "       1164.20382174, 1262.40312314, 1368.88541618, 1484.34937463,\n",
              "       1609.55259122, 1745.31655937, 1892.53206663, 2052.16503794,\n",
              "       2225.26287259, 2412.96131675, 2616.49191555, 2837.1900936 ,\n",
              "       3076.5039171 , 3336.00359499, 3617.3917816 ])"
            ]
          },
          "metadata": {
            "tags": []
          },
          "execution_count": 149
        }
      ]
    },
    {
      "cell_type": "code",
      "metadata": {
        "id": "fFE1NNuAPrdC",
        "colab": {
          "base_uri": "https://localhost:8080/",
          "height": 33
        },
        "outputId": "6c95d469-55c4-458e-dfad-e7808622d76e"
      },
      "source": [
        "np.exp()"
      ],
      "execution_count": null,
      "outputs": [
        {
          "output_type": "execute_result",
          "data": {
            "text/plain": [
              "1.9073465724950998e+21"
            ]
          },
          "metadata": {
            "tags": []
          },
          "execution_count": 135
        }
      ]
    },
    {
      "cell_type": "code",
      "metadata": {
        "id": "n6lVTF_FWjvb",
        "colab": {
          "base_uri": "https://localhost:8080/",
          "height": 50
        },
        "outputId": "5e2e5ac8-8dff-41a4-827d-e36f47b89c5d"
      },
      "source": [
        "\n",
        "# HWES example\n",
        "from statsmodels.tsa.holtwinters import ExponentialSmoothing\n",
        "from random import random\n",
        "# contrived dataset\n",
        "data = dataset['y']\n",
        "# fit model\n",
        "model = ExponentialSmoothing(data)\n",
        "model_fit = model.fit()\n",
        "# make prediction\n",
        "yhat = model_fit.predict(len(data), len(data))\n",
        "print(yhat)"
      ],
      "execution_count": null,
      "outputs": [
        {
          "output_type": "stream",
          "text": [
            "30    32020.0\n",
            "dtype: float64\n"
          ],
          "name": "stdout"
        }
      ]
    },
    {
      "cell_type": "code",
      "metadata": {
        "id": "I_Rg028IZtPb",
        "colab": {
          "base_uri": "https://localhost:8080/",
          "height": 201
        },
        "outputId": "df933aa6-7171-48f2-a91b-5b6e0af4b4a2"
      },
      "source": [
        "dataset.tail()"
      ],
      "execution_count": null,
      "outputs": [
        {
          "output_type": "execute_result",
          "data": {
            "text/html": [
              "<div>\n",
              "<style scoped>\n",
              "    .dataframe tbody tr th:only-of-type {\n",
              "        vertical-align: middle;\n",
              "    }\n",
              "\n",
              "    .dataframe tbody tr th {\n",
              "        vertical-align: top;\n",
              "    }\n",
              "\n",
              "    .dataframe thead th {\n",
              "        text-align: right;\n",
              "    }\n",
              "</style>\n",
              "<table border=\"1\" class=\"dataframe\">\n",
              "  <thead>\n",
              "    <tr style=\"text-align: right;\">\n",
              "      <th></th>\n",
              "      <th>ds</th>\n",
              "      <th>y</th>\n",
              "    </tr>\n",
              "  </thead>\n",
              "  <tbody>\n",
              "    <tr>\n",
              "      <th>25</th>\n",
              "      <td>2020-04-26</td>\n",
              "      <td>25466</td>\n",
              "    </tr>\n",
              "    <tr>\n",
              "      <th>26</th>\n",
              "      <td>2020-04-27</td>\n",
              "      <td>26862</td>\n",
              "    </tr>\n",
              "    <tr>\n",
              "      <th>27</th>\n",
              "      <td>2020-04-28</td>\n",
              "      <td>28405</td>\n",
              "    </tr>\n",
              "    <tr>\n",
              "      <th>28</th>\n",
              "      <td>2020-04-29</td>\n",
              "      <td>30302</td>\n",
              "    </tr>\n",
              "    <tr>\n",
              "      <th>29</th>\n",
              "      <td>2020-04-30</td>\n",
              "      <td>32020</td>\n",
              "    </tr>\n",
              "  </tbody>\n",
              "</table>\n",
              "</div>"
            ],
            "text/plain": [
              "           ds      y\n",
              "25 2020-04-26  25466\n",
              "26 2020-04-27  26862\n",
              "27 2020-04-28  28405\n",
              "28 2020-04-29  30302\n",
              "29 2020-04-30  32020"
            ]
          },
          "metadata": {
            "tags": []
          },
          "execution_count": 157
        }
      ]
    },
    {
      "cell_type": "code",
      "metadata": {
        "id": "zuQ8NeLbZ8WC"
      },
      "source": [
        ""
      ],
      "execution_count": null,
      "outputs": []
    }
  ]
}